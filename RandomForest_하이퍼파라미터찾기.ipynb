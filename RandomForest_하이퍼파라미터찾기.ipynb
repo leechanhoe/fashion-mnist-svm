{
  "cells": [
    {
      "cell_type": "code",
      "source": [
        "from google.colab import drive\n",
        "drive.mount('/content/drive')"
      ],
      "metadata": {
        "colab": {
          "base_uri": "https://localhost:8080/"
        },
        "id": "2EidDw8z3yBZ",
        "outputId": "695b6046-625f-4bad-a358-09e84e75b65c"
      },
      "id": "2EidDw8z3yBZ",
      "execution_count": 1,
      "outputs": [
        {
          "output_type": "stream",
          "name": "stdout",
          "text": [
            "Drive already mounted at /content/drive; to attempt to forcibly remount, call drive.mount(\"/content/drive\", force_remount=True).\n"
          ]
        }
      ]
    },
    {
      "cell_type": "markdown",
      "id": "painted-destiny",
      "metadata": {
        "papermill": {
          "duration": 0.034515,
          "end_time": "2021-06-14T17:39:28.892407",
          "exception": false,
          "start_time": "2021-06-14T17:39:28.857892",
          "status": "completed"
        },
        "tags": [],
        "id": "painted-destiny"
      },
      "source": [
        "# Import packages"
      ]
    },
    {
      "cell_type": "code",
      "execution_count": 2,
      "id": "domestic-hayes",
      "metadata": {
        "execution": {
          "iopub.execute_input": "2021-06-14T17:39:28.964960Z",
          "iopub.status.busy": "2021-06-14T17:39:28.964203Z",
          "iopub.status.idle": "2021-06-14T17:39:30.388623Z",
          "shell.execute_reply": "2021-06-14T17:39:30.389115Z",
          "shell.execute_reply.started": "2021-06-14T15:58:39.353567Z"
        },
        "papermill": {
          "duration": 1.462732,
          "end_time": "2021-06-14T17:39:30.389304",
          "exception": false,
          "start_time": "2021-06-14T17:39:28.926572",
          "status": "completed"
        },
        "tags": [],
        "id": "domestic-hayes"
      },
      "outputs": [],
      "source": [
        "from sklearn.model_selection import train_test_split\n",
        "from sklearn.metrics import accuracy_score\n",
        "import matplotlib.pyplot as plt\n",
        "import seaborn as sns\n",
        "import plotly.graph_objects as go\n",
        "from sklearn.metrics import confusion_matrix\n",
        "from sklearn import metrics\n",
        "from sklearn.decomposition import PCA\n",
        "from sklearn.linear_model import LogisticRegression\n",
        "from sklearn.svm import SVC\n",
        "from sklearn.ensemble import RandomForestClassifier\n",
        "from sklearn import ensemble\n",
        "from xgboost import XGBClassifier\n",
        "import time\n",
        "import numpy as np\n",
        "import pandas as pd\n",
        "from sklearn.model_selection import StratifiedKFold\n",
        "from sklearn.model_selection import GridSearchCV"
      ]
    },
    {
      "cell_type": "code",
      "execution_count": 3,
      "id": "surgical-removal",
      "metadata": {
        "execution": {
          "iopub.execute_input": "2021-06-14T17:39:30.461870Z",
          "iopub.status.busy": "2021-06-14T17:39:30.461172Z",
          "iopub.status.idle": "2021-06-14T17:39:30.464647Z",
          "shell.execute_reply": "2021-06-14T17:39:30.465183Z",
          "shell.execute_reply.started": "2021-06-14T15:58:40.751588Z"
        },
        "papermill": {
          "duration": 0.041192,
          "end_time": "2021-06-14T17:39:30.465371",
          "exception": false,
          "start_time": "2021-06-14T17:39:30.424179",
          "status": "completed"
        },
        "tags": [],
        "id": "surgical-removal"
      },
      "outputs": [],
      "source": [
        "import warnings\n",
        "warnings.filterwarnings(action='ignore', category=UserWarning)"
      ]
    },
    {
      "cell_type": "markdown",
      "id": "knowing-pointer",
      "metadata": {
        "papermill": {
          "duration": 0.03563,
          "end_time": "2021-06-14T17:39:30.535940",
          "exception": false,
          "start_time": "2021-06-14T17:39:30.500310",
          "status": "completed"
        },
        "tags": [],
        "id": "knowing-pointer"
      },
      "source": [
        "# Load dataset"
      ]
    },
    {
      "cell_type": "code",
      "execution_count": 4,
      "id": "registered-criminal",
      "metadata": {
        "execution": {
          "iopub.execute_input": "2021-06-14T17:39:30.611776Z",
          "iopub.status.busy": "2021-06-14T17:39:30.610968Z",
          "iopub.status.idle": "2021-06-14T17:39:38.112662Z",
          "shell.execute_reply": "2021-06-14T17:39:38.113262Z",
          "shell.execute_reply.started": "2021-06-14T15:58:40.757774Z"
        },
        "papermill": {
          "duration": 7.542573,
          "end_time": "2021-06-14T17:39:38.113463",
          "exception": false,
          "start_time": "2021-06-14T17:39:30.570890",
          "status": "completed"
        },
        "tags": [],
        "id": "registered-criminal"
      },
      "outputs": [],
      "source": [
        "train = pd.read_csv('drive/MyDrive/Colab Notebooks/fashion-mnist_train.csv')\n",
        "test = pd.read_csv('drive/MyDrive/Colab Notebooks/fashion-mnist_test.csv')"
      ]
    },
    {
      "cell_type": "code",
      "execution_count": 5,
      "id": "theoretical-kernel",
      "metadata": {
        "execution": {
          "iopub.execute_input": "2021-06-14T17:39:38.188120Z",
          "iopub.status.busy": "2021-06-14T17:39:38.187423Z",
          "iopub.status.idle": "2021-06-14T17:39:38.398442Z",
          "shell.execute_reply": "2021-06-14T17:39:38.397919Z",
          "shell.execute_reply.started": "2021-06-14T15:58:49.371874Z"
        },
        "papermill": {
          "duration": 0.249657,
          "end_time": "2021-06-14T17:39:38.398599",
          "exception": false,
          "start_time": "2021-06-14T17:39:38.148942",
          "status": "completed"
        },
        "tags": [],
        "id": "theoretical-kernel"
      },
      "outputs": [],
      "source": [
        "df_train = train.copy()\n",
        "df_test = test.copy()"
      ]
    },
    {
      "cell_type": "markdown",
      "id": "organizational-cedar",
      "metadata": {
        "papermill": {
          "duration": 0.03377,
          "end_time": "2021-06-14T17:39:38.466529",
          "exception": false,
          "start_time": "2021-06-14T17:39:38.432759",
          "status": "completed"
        },
        "tags": [],
        "id": "organizational-cedar"
      },
      "source": [
        "# Examine NaN values"
      ]
    },
    {
      "cell_type": "code",
      "execution_count": 6,
      "id": "retired-fancy",
      "metadata": {
        "execution": {
          "iopub.execute_input": "2021-06-14T17:39:38.541826Z",
          "iopub.status.busy": "2021-06-14T17:39:38.541156Z",
          "iopub.status.idle": "2021-06-14T17:39:38.574555Z",
          "shell.execute_reply": "2021-06-14T17:39:38.575017Z",
          "shell.execute_reply.started": "2021-06-14T15:58:49.898813Z"
        },
        "papermill": {
          "duration": 0.073883,
          "end_time": "2021-06-14T17:39:38.575207",
          "exception": false,
          "start_time": "2021-06-14T17:39:38.501324",
          "status": "completed"
        },
        "tags": [],
        "colab": {
          "base_uri": "https://localhost:8080/"
        },
        "id": "retired-fancy",
        "outputId": "57995875-c945-4528-99be-9305c6521d6e"
      },
      "outputs": [
        {
          "output_type": "execute_result",
          "data": {
            "text/plain": [
              "0"
            ]
          },
          "metadata": {},
          "execution_count": 6
        }
      ],
      "source": [
        "df_train.isnull().any().sum()"
      ]
    },
    {
      "cell_type": "code",
      "execution_count": 7,
      "id": "compliant-haven",
      "metadata": {
        "execution": {
          "iopub.execute_input": "2021-06-14T17:39:38.647366Z",
          "iopub.status.busy": "2021-06-14T17:39:38.646670Z",
          "iopub.status.idle": "2021-06-14T17:39:38.659221Z",
          "shell.execute_reply": "2021-06-14T17:39:38.658668Z",
          "shell.execute_reply.started": "2021-06-14T15:58:49.926071Z"
        },
        "papermill": {
          "duration": 0.049685,
          "end_time": "2021-06-14T17:39:38.659369",
          "exception": false,
          "start_time": "2021-06-14T17:39:38.609684",
          "status": "completed"
        },
        "tags": [],
        "colab": {
          "base_uri": "https://localhost:8080/"
        },
        "id": "compliant-haven",
        "outputId": "c8cce3a1-6ba1-4c21-e4d6-8eba3d4e9fd1"
      },
      "outputs": [
        {
          "output_type": "execute_result",
          "data": {
            "text/plain": [
              "0"
            ]
          },
          "metadata": {},
          "execution_count": 7
        }
      ],
      "source": [
        "df_test.isnull().any().sum()"
      ]
    },
    {
      "cell_type": "markdown",
      "id": "mature-tradition",
      "metadata": {
        "papermill": {
          "duration": 0.035611,
          "end_time": "2021-06-14T17:39:38.729869",
          "exception": false,
          "start_time": "2021-06-14T17:39:38.694258",
          "status": "completed"
        },
        "tags": [],
        "id": "mature-tradition"
      },
      "source": [
        "# Separating data and label"
      ]
    },
    {
      "cell_type": "code",
      "execution_count": 8,
      "id": "relevant-welding",
      "metadata": {
        "execution": {
          "iopub.execute_input": "2021-06-14T17:39:38.810036Z",
          "iopub.status.busy": "2021-06-14T17:39:38.809350Z",
          "iopub.status.idle": "2021-06-14T17:39:38.995626Z",
          "shell.execute_reply": "2021-06-14T17:39:38.996153Z",
          "shell.execute_reply.started": "2021-06-14T15:58:49.93937Z"
        },
        "papermill": {
          "duration": 0.231698,
          "end_time": "2021-06-14T17:39:38.996327",
          "exception": false,
          "start_time": "2021-06-14T17:39:38.764629",
          "status": "completed"
        },
        "tags": [],
        "id": "relevant-welding"
      },
      "outputs": [],
      "source": [
        "X_train= df_train.drop(['label'],axis = 1)\n",
        "y_train = df_train['label']\n",
        "X_test = df_test.drop(['label'], axis=1)\n",
        "y_test = df_test['label']  # y_test should be labels"
      ]
    },
    {
      "cell_type": "markdown",
      "id": "bigger-elizabeth",
      "metadata": {
        "papermill": {
          "duration": 0.036499,
          "end_time": "2021-06-14T17:39:39.469189",
          "exception": false,
          "start_time": "2021-06-14T17:39:39.432690",
          "status": "completed"
        },
        "tags": [],
        "id": "bigger-elizabeth"
      },
      "source": [
        "# Normalization\n",
        "The Pixel Values are often stored as Integer Numbers in the range 0 to 255, the range that a single 8-bit byte can offer. They need to be scaled down to [0,1] in order for Optimization Algorithms to work much faster. Here, we acheive Zero Mean and Unit Variance."
      ]
    },
    {
      "cell_type": "code",
      "execution_count": 9,
      "id": "contrary-demographic",
      "metadata": {
        "execution": {
          "iopub.execute_input": "2021-06-14T17:39:39.548811Z",
          "iopub.status.busy": "2021-06-14T17:39:39.548117Z",
          "iopub.status.idle": "2021-06-14T17:39:39.788460Z",
          "shell.execute_reply": "2021-06-14T17:39:39.787849Z",
          "shell.execute_reply.started": "2021-06-14T15:58:50.575484Z"
        },
        "papermill": {
          "duration": 0.281552,
          "end_time": "2021-06-14T17:39:39.788602",
          "exception": false,
          "start_time": "2021-06-14T17:39:39.507050",
          "status": "completed"
        },
        "tags": [],
        "id": "contrary-demographic"
      },
      "outputs": [],
      "source": [
        "X_train = X_train.astype('float32')\n",
        "X_test = X_test.astype('float32')  # X_test should be features\n",
        "X_train /= 255.0\n",
        "X_test /= 255.0  # X_test should be features"
      ]
    },
    {
      "cell_type": "markdown",
      "id": "beneficial-congress",
      "metadata": {
        "papermill": {
          "duration": 0.036687,
          "end_time": "2021-06-14T17:39:40.368521",
          "exception": false,
          "start_time": "2021-06-14T17:39:40.331834",
          "status": "completed"
        },
        "tags": [],
        "id": "beneficial-congress"
      },
      "source": [
        "# Dimensionality Reduction using PCA\n",
        "The advantage of PCA (and dimensionality reduction in general) is that it compresses the data down to something that is more effectively modeled. This means that it will, for example, compress away highly correlated and colinear variables, a useful thing to do when trying to run models that would otherwise be sensitive to these sort of data problems."
      ]
    },
    {
      "cell_type": "code",
      "execution_count": 10,
      "id": "sufficient-solid",
      "metadata": {
        "execution": {
          "iopub.execute_input": "2021-06-14T17:39:40.459528Z",
          "iopub.status.busy": "2021-06-14T17:39:40.458359Z",
          "iopub.status.idle": "2021-06-14T17:39:45.613901Z",
          "shell.execute_reply": "2021-06-14T17:39:45.614841Z",
          "shell.execute_reply.started": "2021-06-14T15:58:51.609642Z"
        },
        "papermill": {
          "duration": 5.209811,
          "end_time": "2021-06-14T17:39:45.615134",
          "exception": false,
          "start_time": "2021-06-14T17:39:40.405323",
          "status": "completed"
        },
        "tags": [],
        "id": "sufficient-solid"
      },
      "outputs": [],
      "source": [
        "pca = PCA(n_components=100, random_state=42)\n",
        "X_train_pca = pca.fit_transform(X_train)\n",
        "X_test_pca = pca.transform(X_test)  # Apply PCA transform to test data"
      ]
    },
    {
      "cell_type": "markdown",
      "id": "professional-hepatitis",
      "metadata": {
        "papermill": {
          "duration": 0.037597,
          "end_time": "2021-06-14T17:39:45.907097",
          "exception": false,
          "start_time": "2021-06-14T17:39:45.869500",
          "status": "completed"
        },
        "tags": [],
        "id": "professional-hepatitis"
      },
      "source": [
        "# Evaluate the model"
      ]
    },
    {
      "cell_type": "code",
      "source": [
        "from sklearn.model_selection import RandomizedSearchCV\n",
        "from scipy.stats import randint\n",
        "\n",
        "seed=42\n",
        "\n",
        "param_distribs = {\n",
        "    'n_estimators': randint(low=1, high=200),\n",
        "    'max_depth': [None] + list(range(1, 20)),\n",
        "    'min_samples_split': randint(low=2, high=10)\n",
        "}\n",
        "\n",
        "rnd_search = RandomizedSearchCV(RandomForestClassifier(random_state=seed), param_distributions=param_distribs,\n",
        "                                n_iter=10, cv=5, random_state=seed)\n",
        "rnd_search.fit(X_train_pca, y_train)\n",
        "\n",
        "print(rnd_search.best_params_)"
      ],
      "metadata": {
        "colab": {
          "base_uri": "https://localhost:8080/"
        },
        "id": "hBDTzE0hug3c",
        "outputId": "965baa04-942e-425b-a1dd-218485a8dc09"
      },
      "id": "hBDTzE0hug3c",
      "execution_count": 12,
      "outputs": [
        {
          "output_type": "stream",
          "name": "stdout",
          "text": [
            "{'max_depth': None, 'min_samples_split': 5, 'n_estimators': 58}\n"
          ]
        }
      ]
    },
    {
      "cell_type": "code",
      "source": [],
      "metadata": {
        "id": "2Rgx4qv5wdSD"
      },
      "id": "2Rgx4qv5wdSD",
      "execution_count": null,
      "outputs": []
    }
  ],
  "metadata": {
    "kernelspec": {
      "display_name": "Python 3",
      "name": "python3"
    },
    "language_info": {
      "codemirror_mode": {
        "name": "ipython",
        "version": 3
      },
      "file_extension": ".py",
      "mimetype": "text/x-python",
      "name": "python",
      "nbconvert_exporter": "python",
      "pygments_lexer": "ipython3",
      "version": "3.7.10"
    },
    "papermill": {
      "default_parameters": {},
      "duration": 3853.827213,
      "end_time": "2021-06-14T18:43:33.812368",
      "environment_variables": {},
      "exception": null,
      "input_path": "__notebook__.ipynb",
      "output_path": "__notebook__.ipynb",
      "parameters": {},
      "start_time": "2021-06-14T17:39:19.985155",
      "version": "2.3.3"
    },
    "colab": {
      "provenance": [],
      "gpuType": "T4"
    },
    "accelerator": "GPU"
  },
  "nbformat": 4,
  "nbformat_minor": 5
}