{
  "cells": [
    {
      "cell_type": "code",
      "execution_count": null,
      "metadata": {
        "colab": {
          "base_uri": "https://localhost:8080/"
        },
        "id": "2EidDw8z3yBZ",
        "outputId": "57269a1a-618e-4e8f-e5a9-49bc6a0f6163"
      },
      "outputs": [
        {
          "name": "stdout",
          "output_type": "stream",
          "text": [
            "Mounted at /content/drive\n"
          ]
        }
      ],
      "source": [
        "from google.colab import drive\n",
        "drive.mount('/content/drive')"
      ],
      "id": "2EidDw8z3yBZ"
    },
    {
      "cell_type": "markdown",
      "metadata": {
        "id": "painted-destiny"
      },
      "source": [
        "# Import packages"
      ],
      "id": "painted-destiny"
    },
    {
      "cell_type": "code",
      "execution_count": null,
      "metadata": {
        "id": "domestic-hayes"
      },
      "outputs": [],
      "source": [
        "from sklearn.metrics import accuracy_score\n",
        "import matplotlib.pyplot as plt\n",
        "import seaborn as sns\n",
        "import plotly.graph_objects as go\n",
        "from sklearn.metrics import confusion_matrix\n",
        "from sklearn import metrics\n",
        "from sklearn.decomposition import PCA\n",
        "from sklearn.svm import SVC\n",
        "from sklearn import ensemble\n",
        "import numpy as np\n",
        "import pandas as pd\n",
        "from sklearn.model_selection import StratifiedKFold\n",
        "from keras.preprocessing.image import ImageDataGenerator"
      ],
      "id": "domestic-hayes"
    },
    {
      "cell_type": "code",
      "execution_count": null,
      "metadata": {
        "id": "surgical-removal"
      },
      "outputs": [],
      "source": [
        "import warnings\n",
        "warnings.filterwarnings(action='ignore', category=UserWarning)"
      ],
      "id": "surgical-removal"
    },
    {
      "cell_type": "markdown",
      "metadata": {
        "id": "knowing-pointer"
      },
      "source": [
        "# Load dataset"
      ],
      "id": "knowing-pointer"
    },
    {
      "cell_type": "code",
      "execution_count": null,
      "metadata": {
        "id": "registered-criminal"
      },
      "outputs": [],
      "source": [
        "train = pd.read_csv('drive/MyDrive/Colab Notebooks/fashion-mnist_train.csv')\n",
        "test = pd.read_csv('drive/MyDrive/Colab Notebooks/fashion-mnist_test.csv')"
      ],
      "id": "registered-criminal"
    },
    {
      "cell_type": "code",
      "execution_count": null,
      "metadata": {
        "id": "theoretical-kernel"
      },
      "outputs": [],
      "source": [
        "df_train = train.copy()\n",
        "df_test = test.copy()"
      ],
      "id": "theoretical-kernel"
    },
    {
      "cell_type": "markdown",
      "metadata": {
        "id": "organizational-cedar"
      },
      "source": [
        "# Examine NaN values"
      ],
      "id": "organizational-cedar"
    },
    {
      "cell_type": "code",
      "execution_count": null,
      "metadata": {
        "colab": {
          "base_uri": "https://localhost:8080/"
        },
        "id": "retired-fancy",
        "outputId": "21a25ab1-7373-40e3-a652-9602be1a85b7"
      },
      "outputs": [
        {
          "data": {
            "text/plain": [
              "0"
            ]
          },
          "execution_count": 6,
          "metadata": {},
          "output_type": "execute_result"
        }
      ],
      "source": [
        "df_train.isnull().any().sum()"
      ],
      "id": "retired-fancy"
    },
    {
      "cell_type": "code",
      "execution_count": null,
      "metadata": {
        "colab": {
          "base_uri": "https://localhost:8080/"
        },
        "id": "compliant-haven",
        "outputId": "c0936aad-3ddc-4e35-8769-6310fed23945"
      },
      "outputs": [
        {
          "data": {
            "text/plain": [
              "0"
            ]
          },
          "execution_count": 7,
          "metadata": {},
          "output_type": "execute_result"
        }
      ],
      "source": [
        "df_test.isnull().any().sum()"
      ],
      "id": "compliant-haven"
    },
    {
      "cell_type": "markdown",
      "metadata": {
        "id": "mature-tradition"
      },
      "source": [
        "# Separating data and label"
      ],
      "id": "mature-tradition"
    },
    {
      "cell_type": "code",
      "execution_count": null,
      "metadata": {
        "id": "relevant-welding"
      },
      "outputs": [],
      "source": [
        "X_train= df_train.drop(['label'],axis = 1)\n",
        "y_train = df_train['label']\n",
        "X_test = df_test.drop(['label'], axis=1)\n",
        "y_test = df_test['label']  # y_test should be labels"
      ],
      "id": "relevant-welding"
    },
    {
      "cell_type": "markdown",
      "metadata": {
        "id": "bigger-elizabeth"
      },
      "source": [
        "# Normalization\n",
        "The Pixel Values are often stored as Integer Numbers in the range 0 to 255, the range that a single 8-bit byte can offer. They need to be scaled down to [0,1] in order for Optimization Algorithms to work much faster. Here, we acheive Zero Mean and Unit Variance."
      ],
      "id": "bigger-elizabeth"
    },
    {
      "cell_type": "code",
      "execution_count": null,
      "metadata": {
        "id": "contrary-demographic"
      },
      "outputs": [],
      "source": [
        "\n",
        "X_train = X_train.astype('float32')\n",
        "X_test = X_test.astype('float32')  # X_test should be features\n",
        "X_train /= 255.0\n",
        "X_test /= 255.0  # X_test should be features"
      ],
      "id": "contrary-demographic"
    },
    {
      "cell_type": "markdown",
      "metadata": {
        "id": "beneficial-congress"
      },
      "source": [
        "# Dimensionality Reduction using PCA\n",
        "The advantage of PCA (and dimensionality reduction in general) is that it compresses the data down to something that is more effectively modeled. This means that it will, for example, compress away highly correlated and colinear variables, a useful thing to do when trying to run models that would otherwise be sensitive to these sort of data problems."
      ],
      "id": "beneficial-congress"
    },
    {
      "cell_type": "code",
      "execution_count": null,
      "metadata": {
        "id": "sufficient-solid"
      },
      "outputs": [],
      "source": [
        "# Reshape the data to 4D (num_samples, height, width, num_channels)\n",
        "X_train_reshaped = X_train.values.reshape(-1, 28, 28, 1)\n",
        "\n",
        "# Create an ImageDataGenerator object\n",
        "datagen = ImageDataGenerator(\n",
        "    rotation_range=10,  # randomly rotate images in the range (degrees, 0 to 180)\n",
        "    zoom_range = 0.1,  # Randomly zoom image\n",
        "    width_shift_range=0.1,  # randomly shift images horizontally (fraction of total width)\n",
        "    height_shift_range=0.1,  # randomly shift images vertically (fraction of total height)\n",
        ")"
      ],
      "id": "sufficient-solid"
    },
    {
      "cell_type": "code",
      "execution_count": null,
      "metadata": {
        "id": "EYPH3U_P0cga"
      },
      "outputs": [],
      "source": [
        "# Create augmented images\n",
        "X_augmented = []\n",
        "y_augmented = []\n",
        "for X_batch, y_batch in datagen.flow(X_train_reshaped, y_train, batch_size=X_train_reshaped.shape[0]):\n",
        "    X_augmented.append(X_batch)\n",
        "    y_augmented.append(y_batch)\n",
        "    break  # We only want to augment the data once, so we break the loop after the first batch\n",
        "\n",
        "# Convert lists to numpy arrays\n",
        "X_augmented = np.concatenate(X_augmented)\n",
        "y_augmented = np.concatenate(y_augmented)\n",
        "\n",
        "# Flatten the augmented data\n",
        "X_augmented_flattened = X_augmented.reshape(X_augmented.shape[0], -1)\n",
        "\n",
        "# Flatten the original training data\n",
        "X_train_flattened = X_train_reshaped.reshape(X_train_reshaped.shape[0], -1)\n",
        "\n",
        "# Concatenate the original and the augmented data\n",
        "X_all_flattened = np.concatenate([X_train_flattened, X_augmented_flattened])\n",
        "y_all = np.concatenate([y_train, y_augmented])"
      ],
      "id": "EYPH3U_P0cga"
    },
    {
      "cell_type": "markdown",
      "metadata": {
        "id": "professional-hepatitis"
      },
      "source": [
        "# Evaluate the model"
      ],
      "id": "professional-hepatitis"
    },
    {
      "cell_type": "code",
      "execution_count": null,
      "metadata": {
        "colab": {
          "background_save": true,
          "base_uri": "https://localhost:8080/"
        },
        "id": "hBDTzE0hug3c",
        "outputId": "939dd9ea-5d61-40f0-c254-e220467d838a"
      },
      "outputs": [
        {
          "name": "stdout",
          "output_type": "stream",
          "text": [
            "------------------------------------------------------------------------\n",
            "Training for fold 1 ...\n",
            "------------------------------------------------------------------------\n",
            "Training for fold 2 ...\n",
            "------------------------------------------------------------------------\n",
            "Training for fold 3 ...\n",
            "------------------------------------------------------------------------\n",
            "Training for fold 4 ...\n",
            "------------------------------------------------------------------------\n",
            "Training for fold 5 ...\n"
          ]
        }
      ],
      "source": [
        "seed = 42\n",
        "\n",
        "# Apply PCA to the concatenated data\n",
        "pca = PCA(n_components=150, random_state=seed)\n",
        "X_all_pca = pca.fit_transform(X_all_flattened)\n",
        "\n",
        "# SVM 모델 정의\n",
        "svc1 = SVC(C=4.419450186421157, gamma='scale', kernel='rbf', random_state=seed, probability=True)\n",
        "\n",
        "# Define the K-fold Cross Validator\n",
        "kfold = StratifiedKFold(n_splits=5, shuffle=True, random_state=seed)\n",
        "\n",
        "# To store the models for each fold\n",
        "models = []\n",
        "\n",
        "# K-fold Cross Validation model evaluation\n",
        "fold_no = 1\n",
        "for train, val in kfold.split(X_all_pca, y_all):\n",
        "\n",
        "  # Generate a print\n",
        "  print('------------------------------------------------------------------------')\n",
        "  print(f'Training for fold {fold_no} ...')\n",
        "\n",
        "  # Fit data to model\n",
        "  svc1.fit(X_all_pca[train], y_all[train])\n",
        "\n",
        "  # Save the model\n",
        "  models.append(svc1)\n",
        "\n",
        "  fold_no = fold_no + 1\n",
        "\n",
        "# Select the best model\n",
        "best_model = models[np.argmax([accuracy_score(y_all, model.predict(X_all_pca)) for model in models])]"
      ],
      "id": "hBDTzE0hug3c"
    },
    {
      "cell_type": "markdown",
      "metadata": {
        "id": "genetic-assignment"
      },
      "source": [
        "# Predicting the models"
      ],
      "id": "genetic-assignment"
    },
    {
      "cell_type": "markdown",
      "metadata": {
        "id": "hearing-defendant"
      },
      "source": [
        "***SVM Report and Analysis***"
      ],
      "id": "hearing-defendant"
    },
    {
      "cell_type": "code",
      "execution_count": 15,
      "metadata": {
        "id": "Ytyj0499mEbP",
        "colab": {
          "base_uri": "https://localhost:8080/"
        },
        "outputId": "3f3622e9-6a86-4fc2-978c-3e85e5e173f7"
      },
      "outputs": [
        {
          "output_type": "stream",
          "name": "stdout",
          "text": [
            "Test Accuracy score: 0.9051\n",
            "              precision    recall  f1-score   support\n",
            "\n",
            "           0       0.83      0.87      0.85      1000\n",
            "           1       0.99      0.98      0.99      1000\n",
            "           2       0.85      0.85      0.85      1000\n",
            "           3       0.91      0.93      0.92      1000\n",
            "           4       0.84      0.86      0.85      1000\n",
            "           5       0.98      0.95      0.96      1000\n",
            "           6       0.77      0.71      0.74      1000\n",
            "           7       0.93      0.96      0.95      1000\n",
            "           8       0.98      0.97      0.98      1000\n",
            "           9       0.96      0.96      0.96      1000\n",
            "\n",
            "    accuracy                           0.91     10000\n",
            "   macro avg       0.90      0.91      0.90     10000\n",
            "weighted avg       0.90      0.91      0.90     10000\n",
            "\n"
          ]
        }
      ],
      "source": [
        "# Reshape the test data to 4D (num_samples, height, width, num_channels)\n",
        "X_test_reshaped = X_test.values.reshape(-1, 28, 28, 1)\n",
        "\n",
        "# Flatten the test data\n",
        "X_test_flattened = X_test_reshaped.reshape(X_test_reshaped.shape[0], -1)\n",
        "\n",
        "# Apply PCA transform to the test data\n",
        "X_test_pca = pca.transform(X_test_flattened)\n",
        "\n",
        "# Make predictions on the test data\n",
        "y_test_pred = best_model.predict(X_test_pca)\n",
        "\n",
        "# Calculate the accuracy score\n",
        "test_accuracy = metrics.accuracy_score(y_test, y_test_pred)\n",
        "\n",
        "# Print the test accuracy score\n",
        "print(\"Test Accuracy score: {}\".format(test_accuracy))\n",
        "\n",
        "# Print the classification report\n",
        "print(metrics.classification_report(y_test, y_test_pred))"
      ],
      "id": "Ytyj0499mEbP"
    },
    {
      "cell_type": "code",
      "execution_count": 16,
      "metadata": {
        "colab": {
          "base_uri": "https://localhost:8080/",
          "height": 564
        },
        "id": "txGpOKClv96y",
        "outputId": "7b7de25e-2def-45e3-cc58-2992ea7c85bc"
      },
      "outputs": [
        {
          "output_type": "display_data",
          "data": {
            "text/plain": [
              "<Figure size 900x600 with 2 Axes>"
            ],
            "image/png": "[encoded data removed]"
          },
          "metadata": {}
        }
      ],
      "source": [
        "con_matrix = pd.crosstab(pd.Series(y_test.values.flatten(), name='Actual'), pd.Series(y_test_pred, name='Predicted'))\n",
        "plt.figure(figsize = (9,6))\n",
        "plt.title(\"Confusion Matrix on SVC\")\n",
        "sns.heatmap(con_matrix, cmap=\"Blues\", annot=True, fmt='g')\n",
        "plt.show()"
      ],
      "id": "txGpOKClv96y"
    },
    {
      "cell_type": "code",
      "execution_count": null,
      "metadata": {
        "id": "2Rgx4qv5wdSD"
      },
      "outputs": [],
      "source": [],
      "id": "2Rgx4qv5wdSD"
    }
  ],
  "metadata": {
    "colab": {
      "provenance": []
    },
    "kernelspec": {
      "display_name": "Python 3",
      "name": "python3"
    },
    "language_info": {
      "codemirror_mode": {
        "name": "ipython",
        "version": 3
      },
      "file_extension": ".py",
      "mimetype": "text/x-python",
      "name": "python",
      "nbconvert_exporter": "python",
      "pygments_lexer": "ipython3",
      "version": "3.7.10"
    },
    "papermill": {
      "default_parameters": {},
      "duration": 3853.827213,
      "end_time": "2021-06-14T18:43:33.812368",
      "environment_variables": {},
      "exception": null,
      "input_path": "__notebook__.ipynb",
      "output_path": "__notebook__.ipynb",
      "parameters": {},
      "start_time": "2021-06-14T17:39:19.985155",
      "version": "2.3.3"
    }
  },
  "nbformat": 4,
  "nbformat_minor": 5
}