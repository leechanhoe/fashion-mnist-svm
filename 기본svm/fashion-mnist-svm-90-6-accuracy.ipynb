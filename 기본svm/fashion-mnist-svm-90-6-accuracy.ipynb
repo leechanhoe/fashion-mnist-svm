{
 "cells": [
  {
   "cell_type": "code",
   "execution_count": 1,
   "id": "bottom-progress",
   "metadata": {
    "_cell_guid": "b1076dfc-b9ad-4769-8c92-a6c4dae69d19",
    "_uuid": "8f2839f25d086af736a60e9eeb907d3b93b6e0e5",
    "execution": {
     "iopub.execute_input": "2021-06-14T17:39:28.803895Z",
     "iopub.status.busy": "2021-06-14T17:39:28.802569Z",
     "iopub.status.idle": "2021-06-14T17:39:28.822320Z",
     "shell.execute_reply": "2021-06-14T17:39:28.822904Z",
     "shell.execute_reply.started": "2021-06-14T15:58:39.328943Z"
    },
    "papermill": {
     "duration": 0.060697,
     "end_time": "2021-06-14T17:39:28.823213",
     "exception": false,
     "start_time": "2021-06-14T17:39:28.762516",
     "status": "completed"
    },
    "tags": []
   },
   "outputs": [
    {
     "name": "stdout",
     "output_type": "stream",
     "text": [
      "/kaggle/input/fashionmnist/t10k-labels-idx1-ubyte\n",
      "/kaggle/input/fashionmnist/t10k-images-idx3-ubyte\n",
      "/kaggle/input/fashionmnist/fashion-mnist_test.csv\n",
      "/kaggle/input/fashionmnist/fashion-mnist_train.csv\n",
      "/kaggle/input/fashionmnist/train-labels-idx1-ubyte\n",
      "/kaggle/input/fashionmnist/train-images-idx3-ubyte\n"
     ]
    }
   ],
   "source": [
    "# This Python 3 environment comes with many helpful analytics libraries installed\n",
    "# It is defined by the kaggle/python Docker image: https://github.com/kaggle/docker-python\n",
    "# For example, here's several helpful packages to load\n",
    "\n",
    "import numpy as np # linear algebra\n",
    "import pandas as pd # data processing, CSV file I/O (e.g. pd.read_csv)\n",
    "\n",
    "# Input data files are available in the read-only \"../input/\" directory\n",
    "# For example, running this (by clicking run or pressing Shift+Enter) will list all files under the input directory\n",
    "\n",
    "import os\n",
    "for dirname, _, filenames in os.walk('/kaggle/input'):\n",
    "    for filename in filenames:\n",
    "        print(os.path.join(dirname, filename))\n",
    "\n",
    "# You can write up to 20GB to the current directory (/kaggle/working/) that gets preserved as output when you create a version using \"Save & Run All\" \n",
    "# You can also write temporary files to /kaggle/temp/, but they won't be saved outside of the current session"
   ]
  },
  {
   "cell_type": "markdown",
   "id": "painted-destiny",
   "metadata": {
    "papermill": {
     "duration": 0.034515,
     "end_time": "2021-06-14T17:39:28.892407",
     "exception": false,
     "start_time": "2021-06-14T17:39:28.857892",
     "status": "completed"
    },
    "tags": []
   },
   "source": [
    "# Import packages"
   ]
  },
  {
   "cell_type": "code",
   "execution_count": 2,
   "id": "domestic-hayes",
   "metadata": {
    "execution": {
     "iopub.execute_input": "2021-06-14T17:39:28.964960Z",
     "iopub.status.busy": "2021-06-14T17:39:28.964203Z",
     "iopub.status.idle": "2021-06-14T17:39:30.388623Z",
     "shell.execute_reply": "2021-06-14T17:39:30.389115Z",
     "shell.execute_reply.started": "2021-06-14T15:58:39.353567Z"
    },
    "papermill": {
     "duration": 1.462732,
     "end_time": "2021-06-14T17:39:30.389304",
     "exception": false,
     "start_time": "2021-06-14T17:39:28.926572",
     "status": "completed"
    },
    "tags": []
   },
   "outputs": [],
   "source": [
    "from sklearn.model_selection import train_test_split\n",
    "from sklearn.metrics import accuracy_score\n",
    "import matplotlib.pyplot as plt\n",
    "import seaborn as sns\n",
    "import plotly.graph_objects as go\n",
    "from sklearn.metrics import confusion_matrix\n",
    "from sklearn import metrics\n",
    "from sklearn.decomposition import PCA\n",
    "from sklearn.linear_model import LogisticRegression\n",
    "from sklearn.svm import SVC\n",
    "from sklearn.ensemble import RandomForestClassifier\n",
    "from sklearn import ensemble\n",
    "from xgboost import XGBClassifier\n",
    "import time"
   ]
  },
  {
   "cell_type": "code",
   "execution_count": 3,
   "id": "surgical-removal",
   "metadata": {
    "execution": {
     "iopub.execute_input": "2021-06-14T17:39:30.461870Z",
     "iopub.status.busy": "2021-06-14T17:39:30.461172Z",
     "iopub.status.idle": "2021-06-14T17:39:30.464647Z",
     "shell.execute_reply": "2021-06-14T17:39:30.465183Z",
     "shell.execute_reply.started": "2021-06-14T15:58:40.751588Z"
    },
    "papermill": {
     "duration": 0.041192,
     "end_time": "2021-06-14T17:39:30.465371",
     "exception": false,
     "start_time": "2021-06-14T17:39:30.424179",
     "status": "completed"
    },
    "tags": []
   },
   "outputs": [],
   "source": [
    "import warnings\n",
    "warnings.filterwarnings(action='ignore', category=UserWarning)"
   ]
  },
  {
   "cell_type": "markdown",
   "id": "knowing-pointer",
   "metadata": {
    "papermill": {
     "duration": 0.03563,
     "end_time": "2021-06-14T17:39:30.535940",
     "exception": false,
     "start_time": "2021-06-14T17:39:30.500310",
     "status": "completed"
    },
    "tags": []
   },
   "source": [
    "# Load dataset"
   ]
  },
  {
   "cell_type": "code",
   "execution_count": 4,
   "id": "registered-criminal",
   "metadata": {
    "execution": {
     "iopub.execute_input": "2021-06-14T17:39:30.611776Z",
     "iopub.status.busy": "2021-06-14T17:39:30.610968Z",
     "iopub.status.idle": "2021-06-14T17:39:38.112662Z",
     "shell.execute_reply": "2021-06-14T17:39:38.113262Z",
     "shell.execute_reply.started": "2021-06-14T15:58:40.757774Z"
    },
    "papermill": {
     "duration": 7.542573,
     "end_time": "2021-06-14T17:39:38.113463",
     "exception": false,
     "start_time": "2021-06-14T17:39:30.570890",
     "status": "completed"
    },
    "tags": []
   },
   "outputs": [],
   "source": [
    "train = pd.read_csv('/kaggle/input/fashionmnist/fashion-mnist_train.csv')\n",
    "test = pd.read_csv('/kaggle/input/fashionmnist/fashion-mnist_test.csv')"
   ]
  },
  {
   "cell_type": "code",
   "execution_count": 5,
   "id": "theoretical-kernel",
   "metadata": {
    "execution": {
     "iopub.execute_input": "2021-06-14T17:39:38.188120Z",
     "iopub.status.busy": "2021-06-14T17:39:38.187423Z",
     "iopub.status.idle": "2021-06-14T17:39:38.398442Z",
     "shell.execute_reply": "2021-06-14T17:39:38.397919Z",
     "shell.execute_reply.started": "2021-06-14T15:58:49.371874Z"
    },
    "papermill": {
     "duration": 0.249657,
     "end_time": "2021-06-14T17:39:38.398599",
     "exception": false,
     "start_time": "2021-06-14T17:39:38.148942",
     "status": "completed"
    },
    "tags": []
   },
   "outputs": [],
   "source": [
    "df_train = train.copy()\n",
    "df_test = test.copy()"
   ]
  },
  {
   "cell_type": "markdown",
   "id": "organizational-cedar",
   "metadata": {
    "papermill": {
     "duration": 0.03377,
     "end_time": "2021-06-14T17:39:38.466529",
     "exception": false,
     "start_time": "2021-06-14T17:39:38.432759",
     "status": "completed"
    },
    "tags": []
   },
   "source": [
    "# Examine NaN values"
   ]
  },
  {
   "cell_type": "code",
   "execution_count": 6,
   "id": "retired-fancy",
   "metadata": {
    "execution": {
     "iopub.execute_input": "2021-06-14T17:39:38.541826Z",
     "iopub.status.busy": "2021-06-14T17:39:38.541156Z",
     "iopub.status.idle": "2021-06-14T17:39:38.574555Z",
     "shell.execute_reply": "2021-06-14T17:39:38.575017Z",
     "shell.execute_reply.started": "2021-06-14T15:58:49.898813Z"
    },
    "papermill": {
     "duration": 0.073883,
     "end_time": "2021-06-14T17:39:38.575207",
     "exception": false,
     "start_time": "2021-06-14T17:39:38.501324",
     "status": "completed"
    },
    "tags": []
   },
   "outputs": [
    {
     "data": {
      "text/plain": [
       "0"
      ]
     },
     "execution_count": 6,
     "metadata": {},
     "output_type": "execute_result"
    }
   ],
   "source": [
    "df_train.isnull().any().sum()"
   ]
  },
  {
   "cell_type": "code",
   "execution_count": 7,
   "id": "compliant-haven",
   "metadata": {
    "execution": {
     "iopub.execute_input": "2021-06-14T17:39:38.647366Z",
     "iopub.status.busy": "2021-06-14T17:39:38.646670Z",
     "iopub.status.idle": "2021-06-14T17:39:38.659221Z",
     "shell.execute_reply": "2021-06-14T17:39:38.658668Z",
     "shell.execute_reply.started": "2021-06-14T15:58:49.926071Z"
    },
    "papermill": {
     "duration": 0.049685,
     "end_time": "2021-06-14T17:39:38.659369",
     "exception": false,
     "start_time": "2021-06-14T17:39:38.609684",
     "status": "completed"
    },
    "tags": []
   },
   "outputs": [
    {
     "data": {
      "text/plain": [
       "0"
      ]
     },
     "execution_count": 7,
     "metadata": {},
     "output_type": "execute_result"
    }
   ],
   "source": [
    "df_test.isnull().any().sum()"
   ]
  },
  {
   "cell_type": "markdown",
   "id": "mature-tradition",
   "metadata": {
    "papermill": {
     "duration": 0.035611,
     "end_time": "2021-06-14T17:39:38.729869",
     "exception": false,
     "start_time": "2021-06-14T17:39:38.694258",
     "status": "completed"
    },
    "tags": []
   },
   "source": [
    "# Separating data and label"
   ]
  },
  {
   "cell_type": "code",
   "execution_count": 8,
   "id": "relevant-welding",
   "metadata": {
    "execution": {
     "iopub.execute_input": "2021-06-14T17:39:38.810036Z",
     "iopub.status.busy": "2021-06-14T17:39:38.809350Z",
     "iopub.status.idle": "2021-06-14T17:39:38.995626Z",
     "shell.execute_reply": "2021-06-14T17:39:38.996153Z",
     "shell.execute_reply.started": "2021-06-14T15:58:49.93937Z"
    },
    "papermill": {
     "duration": 0.231698,
     "end_time": "2021-06-14T17:39:38.996327",
     "exception": false,
     "start_time": "2021-06-14T17:39:38.764629",
     "status": "completed"
    },
    "tags": []
   },
   "outputs": [
    {
     "data": {
      "text/html": [
       "<div>\n",
       "<style scoped>\n",
       "    .dataframe tbody tr th:only-of-type {\n",
       "        vertical-align: middle;\n",
       "    }\n",
       "\n",
       "    .dataframe tbody tr th {\n",
       "        vertical-align: top;\n",
       "    }\n",
       "\n",
       "    .dataframe thead th {\n",
       "        text-align: right;\n",
       "    }\n",
       "</style>\n",
       "<table border=\"1\" class=\"dataframe\">\n",
       "  <thead>\n",
       "    <tr style=\"text-align: right;\">\n",
       "      <th></th>\n",
       "      <th>pixel1</th>\n",
       "      <th>pixel2</th>\n",
       "      <th>pixel3</th>\n",
       "      <th>pixel4</th>\n",
       "      <th>pixel5</th>\n",
       "      <th>pixel6</th>\n",
       "      <th>pixel7</th>\n",
       "      <th>pixel8</th>\n",
       "      <th>pixel9</th>\n",
       "      <th>pixel10</th>\n",
       "      <th>...</th>\n",
       "      <th>pixel775</th>\n",
       "      <th>pixel776</th>\n",
       "      <th>pixel777</th>\n",
       "      <th>pixel778</th>\n",
       "      <th>pixel779</th>\n",
       "      <th>pixel780</th>\n",
       "      <th>pixel781</th>\n",
       "      <th>pixel782</th>\n",
       "      <th>pixel783</th>\n",
       "      <th>pixel784</th>\n",
       "    </tr>\n",
       "  </thead>\n",
       "  <tbody>\n",
       "    <tr>\n",
       "      <th>0</th>\n",
       "      <td>0</td>\n",
       "      <td>0</td>\n",
       "      <td>0</td>\n",
       "      <td>0</td>\n",
       "      <td>0</td>\n",
       "      <td>0</td>\n",
       "      <td>0</td>\n",
       "      <td>0</td>\n",
       "      <td>0</td>\n",
       "      <td>0</td>\n",
       "      <td>...</td>\n",
       "      <td>0</td>\n",
       "      <td>0</td>\n",
       "      <td>0</td>\n",
       "      <td>0</td>\n",
       "      <td>0</td>\n",
       "      <td>0</td>\n",
       "      <td>0</td>\n",
       "      <td>0</td>\n",
       "      <td>0</td>\n",
       "      <td>0</td>\n",
       "    </tr>\n",
       "    <tr>\n",
       "      <th>1</th>\n",
       "      <td>0</td>\n",
       "      <td>0</td>\n",
       "      <td>0</td>\n",
       "      <td>0</td>\n",
       "      <td>0</td>\n",
       "      <td>0</td>\n",
       "      <td>0</td>\n",
       "      <td>0</td>\n",
       "      <td>0</td>\n",
       "      <td>0</td>\n",
       "      <td>...</td>\n",
       "      <td>0</td>\n",
       "      <td>0</td>\n",
       "      <td>0</td>\n",
       "      <td>0</td>\n",
       "      <td>0</td>\n",
       "      <td>0</td>\n",
       "      <td>0</td>\n",
       "      <td>0</td>\n",
       "      <td>0</td>\n",
       "      <td>0</td>\n",
       "    </tr>\n",
       "    <tr>\n",
       "      <th>2</th>\n",
       "      <td>0</td>\n",
       "      <td>0</td>\n",
       "      <td>0</td>\n",
       "      <td>0</td>\n",
       "      <td>0</td>\n",
       "      <td>0</td>\n",
       "      <td>0</td>\n",
       "      <td>5</td>\n",
       "      <td>0</td>\n",
       "      <td>0</td>\n",
       "      <td>...</td>\n",
       "      <td>0</td>\n",
       "      <td>0</td>\n",
       "      <td>0</td>\n",
       "      <td>30</td>\n",
       "      <td>43</td>\n",
       "      <td>0</td>\n",
       "      <td>0</td>\n",
       "      <td>0</td>\n",
       "      <td>0</td>\n",
       "      <td>0</td>\n",
       "    </tr>\n",
       "    <tr>\n",
       "      <th>3</th>\n",
       "      <td>0</td>\n",
       "      <td>0</td>\n",
       "      <td>0</td>\n",
       "      <td>1</td>\n",
       "      <td>2</td>\n",
       "      <td>0</td>\n",
       "      <td>0</td>\n",
       "      <td>0</td>\n",
       "      <td>0</td>\n",
       "      <td>0</td>\n",
       "      <td>...</td>\n",
       "      <td>3</td>\n",
       "      <td>0</td>\n",
       "      <td>0</td>\n",
       "      <td>0</td>\n",
       "      <td>0</td>\n",
       "      <td>1</td>\n",
       "      <td>0</td>\n",
       "      <td>0</td>\n",
       "      <td>0</td>\n",
       "      <td>0</td>\n",
       "    </tr>\n",
       "    <tr>\n",
       "      <th>4</th>\n",
       "      <td>0</td>\n",
       "      <td>0</td>\n",
       "      <td>0</td>\n",
       "      <td>0</td>\n",
       "      <td>0</td>\n",
       "      <td>0</td>\n",
       "      <td>0</td>\n",
       "      <td>0</td>\n",
       "      <td>0</td>\n",
       "      <td>0</td>\n",
       "      <td>...</td>\n",
       "      <td>0</td>\n",
       "      <td>0</td>\n",
       "      <td>0</td>\n",
       "      <td>0</td>\n",
       "      <td>0</td>\n",
       "      <td>0</td>\n",
       "      <td>0</td>\n",
       "      <td>0</td>\n",
       "      <td>0</td>\n",
       "      <td>0</td>\n",
       "    </tr>\n",
       "    <tr>\n",
       "      <th>...</th>\n",
       "      <td>...</td>\n",
       "      <td>...</td>\n",
       "      <td>...</td>\n",
       "      <td>...</td>\n",
       "      <td>...</td>\n",
       "      <td>...</td>\n",
       "      <td>...</td>\n",
       "      <td>...</td>\n",
       "      <td>...</td>\n",
       "      <td>...</td>\n",
       "      <td>...</td>\n",
       "      <td>...</td>\n",
       "      <td>...</td>\n",
       "      <td>...</td>\n",
       "      <td>...</td>\n",
       "      <td>...</td>\n",
       "      <td>...</td>\n",
       "      <td>...</td>\n",
       "      <td>...</td>\n",
       "      <td>...</td>\n",
       "      <td>...</td>\n",
       "    </tr>\n",
       "    <tr>\n",
       "      <th>59995</th>\n",
       "      <td>0</td>\n",
       "      <td>0</td>\n",
       "      <td>0</td>\n",
       "      <td>0</td>\n",
       "      <td>0</td>\n",
       "      <td>0</td>\n",
       "      <td>0</td>\n",
       "      <td>0</td>\n",
       "      <td>0</td>\n",
       "      <td>0</td>\n",
       "      <td>...</td>\n",
       "      <td>0</td>\n",
       "      <td>0</td>\n",
       "      <td>0</td>\n",
       "      <td>0</td>\n",
       "      <td>0</td>\n",
       "      <td>0</td>\n",
       "      <td>0</td>\n",
       "      <td>0</td>\n",
       "      <td>0</td>\n",
       "      <td>0</td>\n",
       "    </tr>\n",
       "    <tr>\n",
       "      <th>59996</th>\n",
       "      <td>0</td>\n",
       "      <td>0</td>\n",
       "      <td>0</td>\n",
       "      <td>0</td>\n",
       "      <td>0</td>\n",
       "      <td>0</td>\n",
       "      <td>0</td>\n",
       "      <td>0</td>\n",
       "      <td>0</td>\n",
       "      <td>0</td>\n",
       "      <td>...</td>\n",
       "      <td>73</td>\n",
       "      <td>0</td>\n",
       "      <td>0</td>\n",
       "      <td>0</td>\n",
       "      <td>0</td>\n",
       "      <td>0</td>\n",
       "      <td>0</td>\n",
       "      <td>0</td>\n",
       "      <td>0</td>\n",
       "      <td>0</td>\n",
       "    </tr>\n",
       "    <tr>\n",
       "      <th>59997</th>\n",
       "      <td>0</td>\n",
       "      <td>0</td>\n",
       "      <td>0</td>\n",
       "      <td>0</td>\n",
       "      <td>0</td>\n",
       "      <td>0</td>\n",
       "      <td>0</td>\n",
       "      <td>0</td>\n",
       "      <td>0</td>\n",
       "      <td>0</td>\n",
       "      <td>...</td>\n",
       "      <td>160</td>\n",
       "      <td>162</td>\n",
       "      <td>163</td>\n",
       "      <td>135</td>\n",
       "      <td>94</td>\n",
       "      <td>0</td>\n",
       "      <td>0</td>\n",
       "      <td>0</td>\n",
       "      <td>0</td>\n",
       "      <td>0</td>\n",
       "    </tr>\n",
       "    <tr>\n",
       "      <th>59998</th>\n",
       "      <td>0</td>\n",
       "      <td>0</td>\n",
       "      <td>0</td>\n",
       "      <td>0</td>\n",
       "      <td>0</td>\n",
       "      <td>0</td>\n",
       "      <td>0</td>\n",
       "      <td>0</td>\n",
       "      <td>0</td>\n",
       "      <td>0</td>\n",
       "      <td>...</td>\n",
       "      <td>0</td>\n",
       "      <td>0</td>\n",
       "      <td>0</td>\n",
       "      <td>0</td>\n",
       "      <td>0</td>\n",
       "      <td>0</td>\n",
       "      <td>0</td>\n",
       "      <td>0</td>\n",
       "      <td>0</td>\n",
       "      <td>0</td>\n",
       "    </tr>\n",
       "    <tr>\n",
       "      <th>59999</th>\n",
       "      <td>0</td>\n",
       "      <td>0</td>\n",
       "      <td>0</td>\n",
       "      <td>0</td>\n",
       "      <td>0</td>\n",
       "      <td>0</td>\n",
       "      <td>0</td>\n",
       "      <td>0</td>\n",
       "      <td>0</td>\n",
       "      <td>0</td>\n",
       "      <td>...</td>\n",
       "      <td>0</td>\n",
       "      <td>0</td>\n",
       "      <td>0</td>\n",
       "      <td>0</td>\n",
       "      <td>0</td>\n",
       "      <td>0</td>\n",
       "      <td>0</td>\n",
       "      <td>0</td>\n",
       "      <td>0</td>\n",
       "      <td>0</td>\n",
       "    </tr>\n",
       "  </tbody>\n",
       "</table>\n",
       "<p>60000 rows × 784 columns</p>\n",
       "</div>"
      ],
      "text/plain": [
       "       pixel1  pixel2  pixel3  pixel4  pixel5  pixel6  pixel7  pixel8  pixel9  \\\n",
       "0           0       0       0       0       0       0       0       0       0   \n",
       "1           0       0       0       0       0       0       0       0       0   \n",
       "2           0       0       0       0       0       0       0       5       0   \n",
       "3           0       0       0       1       2       0       0       0       0   \n",
       "4           0       0       0       0       0       0       0       0       0   \n",
       "...       ...     ...     ...     ...     ...     ...     ...     ...     ...   \n",
       "59995       0       0       0       0       0       0       0       0       0   \n",
       "59996       0       0       0       0       0       0       0       0       0   \n",
       "59997       0       0       0       0       0       0       0       0       0   \n",
       "59998       0       0       0       0       0       0       0       0       0   \n",
       "59999       0       0       0       0       0       0       0       0       0   \n",
       "\n",
       "       pixel10  ...  pixel775  pixel776  pixel777  pixel778  pixel779  \\\n",
       "0            0  ...         0         0         0         0         0   \n",
       "1            0  ...         0         0         0         0         0   \n",
       "2            0  ...         0         0         0        30        43   \n",
       "3            0  ...         3         0         0         0         0   \n",
       "4            0  ...         0         0         0         0         0   \n",
       "...        ...  ...       ...       ...       ...       ...       ...   \n",
       "59995        0  ...         0         0         0         0         0   \n",
       "59996        0  ...        73         0         0         0         0   \n",
       "59997        0  ...       160       162       163       135        94   \n",
       "59998        0  ...         0         0         0         0         0   \n",
       "59999        0  ...         0         0         0         0         0   \n",
       "\n",
       "       pixel780  pixel781  pixel782  pixel783  pixel784  \n",
       "0             0         0         0         0         0  \n",
       "1             0         0         0         0         0  \n",
       "2             0         0         0         0         0  \n",
       "3             1         0         0         0         0  \n",
       "4             0         0         0         0         0  \n",
       "...         ...       ...       ...       ...       ...  \n",
       "59995         0         0         0         0         0  \n",
       "59996         0         0         0         0         0  \n",
       "59997         0         0         0         0         0  \n",
       "59998         0         0         0         0         0  \n",
       "59999         0         0         0         0         0  \n",
       "\n",
       "[60000 rows x 784 columns]"
      ]
     },
     "execution_count": 8,
     "metadata": {},
     "output_type": "execute_result"
    }
   ],
   "source": [
    "X_train= df_train.drop(['label'],axis = 1)\n",
    "X_train"
   ]
  },
  {
   "cell_type": "code",
   "execution_count": 9,
   "id": "reverse-fraction",
   "metadata": {
    "execution": {
     "iopub.execute_input": "2021-06-14T17:39:39.074484Z",
     "iopub.status.busy": "2021-06-14T17:39:39.073417Z",
     "iopub.status.idle": "2021-06-14T17:39:39.080751Z",
     "shell.execute_reply": "2021-06-14T17:39:39.080152Z",
     "shell.execute_reply.started": "2021-06-14T15:58:50.449202Z"
    },
    "papermill": {
     "duration": 0.04782,
     "end_time": "2021-06-14T17:39:39.080905",
     "exception": false,
     "start_time": "2021-06-14T17:39:39.033085",
     "status": "completed"
    },
    "tags": []
   },
   "outputs": [
    {
     "data": {
      "text/plain": [
       "(60000, 784)"
      ]
     },
     "execution_count": 9,
     "metadata": {},
     "output_type": "execute_result"
    }
   ],
   "source": [
    "X_train.shape"
   ]
  },
  {
   "cell_type": "code",
   "execution_count": 10,
   "id": "insured-inclusion",
   "metadata": {
    "execution": {
     "iopub.execute_input": "2021-06-14T17:39:39.162202Z",
     "iopub.status.busy": "2021-06-14T17:39:39.161162Z",
     "iopub.status.idle": "2021-06-14T17:39:39.166203Z",
     "shell.execute_reply": "2021-06-14T17:39:39.165519Z",
     "shell.execute_reply.started": "2021-06-14T15:58:50.456379Z"
    },
    "papermill": {
     "duration": 0.04815,
     "end_time": "2021-06-14T17:39:39.166349",
     "exception": false,
     "start_time": "2021-06-14T17:39:39.118199",
     "status": "completed"
    },
    "tags": []
   },
   "outputs": [
    {
     "data": {
      "text/plain": [
       "0        2\n",
       "1        9\n",
       "2        6\n",
       "3        0\n",
       "4        3\n",
       "        ..\n",
       "59995    9\n",
       "59996    1\n",
       "59997    8\n",
       "59998    8\n",
       "59999    7\n",
       "Name: label, Length: 60000, dtype: int64"
      ]
     },
     "execution_count": 10,
     "metadata": {},
     "output_type": "execute_result"
    }
   ],
   "source": [
    "X_test = df_train['label']\n",
    "X_test"
   ]
  },
  {
   "cell_type": "code",
   "execution_count": 11,
   "id": "western-anniversary",
   "metadata": {
    "execution": {
     "iopub.execute_input": "2021-06-14T17:39:39.248581Z",
     "iopub.status.busy": "2021-06-14T17:39:39.247407Z",
     "iopub.status.idle": "2021-06-14T17:39:39.254928Z",
     "shell.execute_reply": "2021-06-14T17:39:39.253956Z",
     "shell.execute_reply.started": "2021-06-14T15:58:50.472348Z"
    },
    "papermill": {
     "duration": 0.052021,
     "end_time": "2021-06-14T17:39:39.255158",
     "exception": false,
     "start_time": "2021-06-14T17:39:39.203137",
     "status": "completed"
    },
    "tags": []
   },
   "outputs": [
    {
     "data": {
      "text/plain": [
       "(60000,)"
      ]
     },
     "execution_count": 11,
     "metadata": {},
     "output_type": "execute_result"
    }
   ],
   "source": [
    "X_test.shape"
   ]
  },
  {
   "cell_type": "code",
   "execution_count": 12,
   "id": "statewide-appeal",
   "metadata": {
    "execution": {
     "iopub.execute_input": "2021-06-14T17:39:39.389090Z",
     "iopub.status.busy": "2021-06-14T17:39:39.387259Z",
     "iopub.status.idle": "2021-06-14T17:39:39.394463Z",
     "shell.execute_reply": "2021-06-14T17:39:39.393895Z",
     "shell.execute_reply.started": "2021-06-14T15:58:50.480705Z"
    },
    "papermill": {
     "duration": 0.093292,
     "end_time": "2021-06-14T17:39:39.394605",
     "exception": false,
     "start_time": "2021-06-14T17:39:39.301313",
     "status": "completed"
    },
    "tags": []
   },
   "outputs": [
    {
     "data": {
      "text/plain": [
       "(10000, 784)"
      ]
     },
     "execution_count": 12,
     "metadata": {},
     "output_type": "execute_result"
    }
   ],
   "source": [
    "y_test = df_test.drop(['label'],axis = 1)\n",
    "y_test.shape"
   ]
  },
  {
   "cell_type": "markdown",
   "id": "bigger-elizabeth",
   "metadata": {
    "papermill": {
     "duration": 0.036499,
     "end_time": "2021-06-14T17:39:39.469189",
     "exception": false,
     "start_time": "2021-06-14T17:39:39.432690",
     "status": "completed"
    },
    "tags": []
   },
   "source": [
    "# Normalization\n",
    "The Pixel Values are often stored as Integer Numbers in the range 0 to 255, the range that a single 8-bit byte can offer. They need to be scaled down to [0,1] in order for Optimization Algorithms to work much faster. Here, we acheive Zero Mean and Unit Variance."
   ]
  },
  {
   "cell_type": "code",
   "execution_count": 13,
   "id": "contrary-demographic",
   "metadata": {
    "execution": {
     "iopub.execute_input": "2021-06-14T17:39:39.548811Z",
     "iopub.status.busy": "2021-06-14T17:39:39.548117Z",
     "iopub.status.idle": "2021-06-14T17:39:39.788460Z",
     "shell.execute_reply": "2021-06-14T17:39:39.787849Z",
     "shell.execute_reply.started": "2021-06-14T15:58:50.575484Z"
    },
    "papermill": {
     "duration": 0.281552,
     "end_time": "2021-06-14T17:39:39.788602",
     "exception": false,
     "start_time": "2021-06-14T17:39:39.507050",
     "status": "completed"
    },
    "tags": []
   },
   "outputs": [],
   "source": [
    "X_train = X_train.astype('float32')\n",
    "y_test = y_test.astype('float32')\n",
    "X_train /= 255.0\n",
    "y_test /=255.0"
   ]
  },
  {
   "cell_type": "markdown",
   "id": "confirmed-family",
   "metadata": {
    "papermill": {
     "duration": 0.036492,
     "end_time": "2021-06-14T17:39:39.862318",
     "exception": false,
     "start_time": "2021-06-14T17:39:39.825826",
     "status": "completed"
    },
    "tags": []
   },
   "source": [
    "# Split training and test sets "
   ]
  },
  {
   "cell_type": "code",
   "execution_count": 14,
   "id": "sophisticated-control",
   "metadata": {
    "execution": {
     "iopub.execute_input": "2021-06-14T17:39:39.945822Z",
     "iopub.status.busy": "2021-06-14T17:39:39.945154Z",
     "iopub.status.idle": "2021-06-14T17:39:40.293859Z",
     "shell.execute_reply": "2021-06-14T17:39:40.293097Z",
     "shell.execute_reply.started": "2021-06-14T15:58:51.100354Z"
    },
    "papermill": {
     "duration": 0.392414,
     "end_time": "2021-06-14T17:39:40.294004",
     "exception": false,
     "start_time": "2021-06-14T17:39:39.901590",
     "status": "completed"
    },
    "tags": []
   },
   "outputs": [],
   "source": [
    "seed = 99\n",
    "np.random.seed(seed)\n",
    "X_train, X_val, y_train, y_val = train_test_split(X_train, X_test, test_size=0.1, random_state = seed)"
   ]
  },
  {
   "cell_type": "markdown",
   "id": "beneficial-congress",
   "metadata": {
    "papermill": {
     "duration": 0.036687,
     "end_time": "2021-06-14T17:39:40.368521",
     "exception": false,
     "start_time": "2021-06-14T17:39:40.331834",
     "status": "completed"
    },
    "tags": []
   },
   "source": [
    "# Dimensionality Reduction using PCA\n",
    "The advantage of PCA (and dimensionality reduction in general) is that it compresses the data down to something that is more effectively modeled. This means that it will, for example, compress away highly correlated and colinear variables, a useful thing to do when trying to run models that would otherwise be sensitive to these sort of data problems."
   ]
  },
  {
   "cell_type": "code",
   "execution_count": 15,
   "id": "sufficient-solid",
   "metadata": {
    "execution": {
     "iopub.execute_input": "2021-06-14T17:39:40.459528Z",
     "iopub.status.busy": "2021-06-14T17:39:40.458359Z",
     "iopub.status.idle": "2021-06-14T17:39:45.613901Z",
     "shell.execute_reply": "2021-06-14T17:39:45.614841Z",
     "shell.execute_reply.started": "2021-06-14T15:58:51.609642Z"
    },
    "papermill": {
     "duration": 5.209811,
     "end_time": "2021-06-14T17:39:45.615134",
     "exception": false,
     "start_time": "2021-06-14T17:39:40.405323",
     "status": "completed"
    },
    "tags": []
   },
   "outputs": [],
   "source": [
    "pca = PCA(n_components=100, random_state=42)\n",
    "X_train_pca =pca.fit_transform(X_train)\n",
    "X_test_pca = pca.transform(X_val)\n",
    "y_test_pca =pca.transform(y_test)"
   ]
  },
  {
   "cell_type": "code",
   "execution_count": 16,
   "id": "federal-pizza",
   "metadata": {
    "execution": {
     "iopub.execute_input": "2021-06-14T17:39:45.745126Z",
     "iopub.status.busy": "2021-06-14T17:39:45.744221Z",
     "iopub.status.idle": "2021-06-14T17:39:45.748524Z",
     "shell.execute_reply": "2021-06-14T17:39:45.747869Z",
     "shell.execute_reply.started": "2021-06-14T15:58:57.041128Z"
    },
    "papermill": {
     "duration": 0.067061,
     "end_time": "2021-06-14T17:39:45.748671",
     "exception": false,
     "start_time": "2021-06-14T17:39:45.681610",
     "status": "completed"
    },
    "tags": []
   },
   "outputs": [
    {
     "data": {
      "text/plain": [
       "(54000, 100)"
      ]
     },
     "execution_count": 16,
     "metadata": {},
     "output_type": "execute_result"
    }
   ],
   "source": [
    "X_train_pca.shape"
   ]
  },
  {
   "cell_type": "code",
   "execution_count": 17,
   "id": "statewide-control",
   "metadata": {
    "execution": {
     "iopub.execute_input": "2021-06-14T17:39:45.830341Z",
     "iopub.status.busy": "2021-06-14T17:39:45.829257Z",
     "iopub.status.idle": "2021-06-14T17:39:45.831492Z",
     "shell.execute_reply": "2021-06-14T17:39:45.831973Z",
     "shell.execute_reply.started": "2021-06-14T15:58:57.050315Z"
    },
    "papermill": {
     "duration": 0.045245,
     "end_time": "2021-06-14T17:39:45.832166",
     "exception": false,
     "start_time": "2021-06-14T17:39:45.786921",
     "status": "completed"
    },
    "tags": []
   },
   "outputs": [],
   "source": [
    "X_train_PCA1 = pd.DataFrame(X_train_pca)\n",
    "X_test_PCA1 = pd.DataFrame(X_test_pca)"
   ]
  },
  {
   "cell_type": "markdown",
   "id": "professional-hepatitis",
   "metadata": {
    "papermill": {
     "duration": 0.037597,
     "end_time": "2021-06-14T17:39:45.907097",
     "exception": false,
     "start_time": "2021-06-14T17:39:45.869500",
     "status": "completed"
    },
    "tags": []
   },
   "source": [
    "# Evaluate the model"
   ]
  },
  {
   "cell_type": "markdown",
   "id": "sublime-inspector",
   "metadata": {
    "papermill": {
     "duration": 0.039306,
     "end_time": "2021-06-14T17:39:45.984324",
     "exception": false,
     "start_time": "2021-06-14T17:39:45.945018",
     "status": "completed"
    },
    "tags": []
   },
   "source": [
    "The algorithms which we are using for classification and analysis of the data are: \n",
    "\n",
    "1) Logistic Regression\n",
    "\n",
    "2) SVM\n",
    "\n",
    "3) Random Forest\n",
    "\n",
    "4) Gradient Boosting\n",
    "\n",
    "5) XGBoost"
   ]
  },
  {
   "cell_type": "code",
   "execution_count": 18,
   "id": "opposed-myrtle",
   "metadata": {
    "execution": {
     "iopub.execute_input": "2021-06-14T17:39:46.073854Z",
     "iopub.status.busy": "2021-06-14T17:39:46.068568Z",
     "iopub.status.idle": "2021-06-14T18:40:57.372093Z",
     "shell.execute_reply": "2021-06-14T18:40:57.372926Z",
     "shell.execute_reply.started": "2021-06-14T15:58:57.071815Z"
    },
    "papermill": {
     "duration": 3671.350978,
     "end_time": "2021-06-14T18:40:57.373778",
     "exception": false,
     "start_time": "2021-06-14T17:39:46.022800",
     "status": "completed"
    },
    "tags": []
   },
   "outputs": [
    {
     "name": "stdout",
     "output_type": "stream",
     "text": [
      "LR Time: 0.91 minute\n",
      "SVC Time: 5.09 minute\n",
      "Random Forest Time: 4.08 minute\n",
      "Gradient Boosting Time: 41.15 minute\n",
      "XGBoost Time: 9.95 minute\n"
     ]
    }
   ],
   "source": [
    "\n",
    "# 1. LR Model\n",
    "start1 = time.time()\n",
    "\n",
    "logistic = LogisticRegression(max_iter=200, solver='liblinear')\n",
    "logistic.fit(X_train_PCA1, y_train)\n",
    "\n",
    "end1 = time.time()\n",
    "lr_time = end1-start1\n",
    "\n",
    "# 2. SVC Model\n",
    "start2 = time.time()\n",
    "\n",
    "svc = SVC(C=13,kernel='rbf',gamma=\"auto\",probability = True)\n",
    "svc.fit(X_train_PCA1, y_train)\n",
    "\n",
    "end2 = time.time()\n",
    "svm_time = end2-start2\n",
    "\n",
    "# 3. Random Forest\n",
    "start3 = time.time()\n",
    "\n",
    "random_forest = RandomForestClassifier(criterion='entropy', max_depth=70, n_estimators=100)\n",
    "random_forest.fit(X_train_PCA1, y_train)\n",
    "\n",
    "end3 = time.time()\n",
    "forest_time = end3-start3\n",
    "\n",
    "# 4. Gradient Boosting Method \n",
    "start4 = time.time()\n",
    "\n",
    "Gradient = ensemble.GradientBoostingClassifier(n_estimators=100)\n",
    "Gradient.fit(X_train_PCA1, y_train)\n",
    "\n",
    "end4 = time.time()\n",
    "gradient_time = end4-start4\n",
    "\n",
    "# 5. XGBoost Method\n",
    "start5 = time.time()\n",
    "\n",
    "xgb = XGBClassifier(use_label_encoder=False,objective=\"multi:softmax\",eval_metric=\"merror\")\n",
    "xgb.fit(X_train_PCA1, y_train.ravel())\n",
    "\n",
    "end5 = time.time()\n",
    "xgb_time = end5-start5\n",
    "\n",
    "\n",
    "print(\"LR Time: {:0.2f} minute\".format(lr_time/60.0))\n",
    "print(\"SVC Time: {:0.2f} minute\".format(svm_time/60.0))\n",
    "print(\"Random Forest Time: {:0.2f} minute\".format(forest_time/60.0))\n",
    "print(\"Gradient Boosting Time: {:0.2f} minute\".format(gradient_time/60.0))\n",
    "print(\"XGBoost Time: {:0.2f} minute\".format(xgb_time/60.0))"
   ]
  },
  {
   "cell_type": "markdown",
   "id": "genetic-assignment",
   "metadata": {
    "papermill": {
     "duration": 0.038425,
     "end_time": "2021-06-14T18:40:57.451583",
     "exception": false,
     "start_time": "2021-06-14T18:40:57.413158",
     "status": "completed"
    },
    "tags": []
   },
   "source": [
    "# Predicting the models"
   ]
  },
  {
   "cell_type": "markdown",
   "id": "hungry-electric",
   "metadata": {
    "papermill": {
     "duration": 0.038202,
     "end_time": "2021-06-14T18:40:57.528798",
     "exception": false,
     "start_time": "2021-06-14T18:40:57.490596",
     "status": "completed"
    },
    "tags": []
   },
   "source": [
    "***Logistic Regression Report and Analysis***"
   ]
  },
  {
   "cell_type": "code",
   "execution_count": 19,
   "id": "spiritual-belgium",
   "metadata": {
    "execution": {
     "iopub.execute_input": "2021-06-14T18:40:57.616645Z",
     "iopub.status.busy": "2021-06-14T18:40:57.615475Z",
     "iopub.status.idle": "2021-06-14T18:40:57.709730Z",
     "shell.execute_reply": "2021-06-14T18:40:57.711296Z",
     "shell.execute_reply.started": "2021-06-14T17:03:09.715834Z"
    },
    "papermill": {
     "duration": 0.144359,
     "end_time": "2021-06-14T18:40:57.711680",
     "exception": false,
     "start_time": "2021-06-14T18:40:57.567321",
     "status": "completed"
    },
    "tags": []
   },
   "outputs": [
    {
     "name": "stdout",
     "output_type": "stream",
     "text": [
      "Train Accuracy score: 0.8462037037037037\n",
      "Test Accuracy score: 0.851\n",
      "              precision    recall  f1-score   support\n",
      "\n",
      "           0       0.80      0.83      0.81       574\n",
      "           1       0.97      0.96      0.97       596\n",
      "           2       0.76      0.76      0.76       573\n",
      "           3       0.86      0.88      0.87       624\n",
      "           4       0.77      0.78      0.78       635\n",
      "           5       0.95      0.91      0.93       632\n",
      "           6       0.64      0.58      0.61       600\n",
      "           7       0.90      0.93      0.91       604\n",
      "           8       0.92      0.93      0.93       598\n",
      "           9       0.94      0.95      0.94       564\n",
      "\n",
      "    accuracy                           0.85      6000\n",
      "   macro avg       0.85      0.85      0.85      6000\n",
      "weighted avg       0.85      0.85      0.85      6000\n",
      "\n"
     ]
    }
   ],
   "source": [
    "y_train_lr = logistic.predict(X_train_PCA1)\n",
    "y_pred_lr = logistic.predict(X_test_pca)\n",
    "logistic_train = metrics.accuracy_score(y_train,y_train_lr )\n",
    "logistic_accuracy = metrics.accuracy_score(y_val, y_pred_lr)\n",
    "\n",
    "print(\"Train Accuracy score: {}\".format(logistic_train))\n",
    "print(\"Test Accuracy score: {}\".format(logistic_accuracy))\n",
    "print(metrics.classification_report(y_val, y_pred_lr))"
   ]
  },
  {
   "cell_type": "code",
   "execution_count": 20,
   "id": "detailed-majority",
   "metadata": {
    "execution": {
     "iopub.execute_input": "2021-06-14T18:40:57.833772Z",
     "iopub.status.busy": "2021-06-14T18:40:57.832938Z",
     "iopub.status.idle": "2021-06-14T18:40:58.656341Z",
     "shell.execute_reply": "2021-06-14T18:40:58.656851Z",
     "shell.execute_reply.started": "2021-06-14T17:03:09.801861Z"
    },
    "papermill": {
     "duration": 0.877113,
     "end_time": "2021-06-14T18:40:58.657017",
     "exception": false,
     "start_time": "2021-06-14T18:40:57.779904",
     "status": "completed"
    },
    "tags": []
   },
   "outputs": [
    {
     "data": {
      "image/png": "[encoded data removed]",
      "text/plain": [
       "<Figure size 648x432 with 2 Axes>"
      ]
     },
     "metadata": {
      "needs_background": "light"
     },
     "output_type": "display_data"
    }
   ],
   "source": [
    "con_matrix = pd.crosstab(pd.Series(y_val.values.flatten(), name='Actual' ),pd.Series(y_pred_lr, name='Predicted'))\n",
    "plt.figure(figsize = (9,6))\n",
    "plt.title(\"Confusion Matrix on Logistic Regression\")\n",
    "sns.heatmap(con_matrix, cmap=\"Blues\", annot=True, fmt='g')\n",
    "plt.show()"
   ]
  },
  {
   "cell_type": "markdown",
   "id": "hearing-defendant",
   "metadata": {
    "papermill": {
     "duration": 0.038948,
     "end_time": "2021-06-14T18:40:58.735105",
     "exception": false,
     "start_time": "2021-06-14T18:40:58.696157",
     "status": "completed"
    },
    "tags": []
   },
   "source": [
    "***SVM Report and Analysis***"
   ]
  },
  {
   "cell_type": "code",
   "execution_count": 21,
   "id": "stock-hawaiian",
   "metadata": {
    "execution": {
     "iopub.execute_input": "2021-06-14T18:40:58.816511Z",
     "iopub.status.busy": "2021-06-14T18:40:58.815592Z",
     "iopub.status.idle": "2021-06-14T18:43:24.459766Z",
     "shell.execute_reply": "2021-06-14T18:43:24.460288Z",
     "shell.execute_reply.started": "2021-06-14T17:33:20.832069Z"
    },
    "papermill": {
     "duration": 145.686299,
     "end_time": "2021-06-14T18:43:24.460471",
     "exception": false,
     "start_time": "2021-06-14T18:40:58.774172",
     "status": "completed"
    },
    "tags": []
   },
   "outputs": [
    {
     "name": "stdout",
     "output_type": "stream",
     "text": [
      "Train Accuracy score: 0.9425555555555556\n",
      "Test Accuracy score: 0.906\n",
      "              precision    recall  f1-score   support\n",
      "\n",
      "           0       0.84      0.85      0.85       574\n",
      "           1       0.99      0.98      0.99       596\n",
      "           2       0.83      0.85      0.84       573\n",
      "           3       0.91      0.93      0.92       624\n",
      "           4       0.86      0.85      0.85       635\n",
      "           5       0.98      0.95      0.96       632\n",
      "           6       0.76      0.74      0.75       600\n",
      "           7       0.93      0.97      0.95       604\n",
      "           8       0.97      0.97      0.97       598\n",
      "           9       0.97      0.96      0.96       564\n",
      "\n",
      "    accuracy                           0.91      6000\n",
      "   macro avg       0.91      0.91      0.91      6000\n",
      "weighted avg       0.91      0.91      0.91      6000\n",
      "\n"
     ]
    }
   ],
   "source": [
    "y_train_svc = svc.predict(X_train_PCA1)\n",
    "y_pred_svc = svc.predict(X_test_pca)\n",
    "svc_train = metrics.accuracy_score(y_train,y_train_svc)\n",
    "svc_accuracy = metrics.accuracy_score(y_val, y_pred_svc)\n",
    "\n",
    "print(\"Train Accuracy score: {}\".format(svc_train))\n",
    "print(\"Test Accuracy score: {}\".format(svc_accuracy))\n",
    "print(metrics.classification_report(y_val, y_pred_svc))"
   ]
  },
  {
   "cell_type": "code",
   "execution_count": 22,
   "id": "contained-riverside",
   "metadata": {
    "execution": {
     "iopub.execute_input": "2021-06-14T18:43:24.547992Z",
     "iopub.status.busy": "2021-06-14T18:43:24.547274Z",
     "iopub.status.idle": "2021-06-14T18:43:25.178205Z",
     "shell.execute_reply": "2021-06-14T18:43:25.177574Z",
     "shell.execute_reply.started": "2021-06-14T17:35:55.285105Z"
    },
    "papermill": {
     "duration": 0.678324,
     "end_time": "2021-06-14T18:43:25.178337",
     "exception": false,
     "start_time": "2021-06-14T18:43:24.500013",
     "status": "completed"
    },
    "tags": []
   },
   "outputs": [
    {
     "data": {
      "image/png": "[encoded data removed]",
      "text/plain": [
       "<Figure size 648x432 with 2 Axes>"
      ]
     },
     "metadata": {
      "needs_background": "light"
     },
     "output_type": "display_data"
    }
   ],
   "source": [
    "con_matrix = pd.crosstab(pd.Series(y_val.values.flatten(), name='Actual' ),pd.Series(y_pred_svc, name='Predicted'))\n",
    "plt.figure(figsize = (9,6))\n",
    "plt.title(\"Confusion Matrix on SVC\")\n",
    "sns.heatmap(con_matrix, cmap=\"Blues\", annot=True, fmt='g')\n",
    "plt.show()"
   ]
  },
  {
   "cell_type": "markdown",
   "id": "intermediate-floating",
   "metadata": {
    "papermill": {
     "duration": 0.040752,
     "end_time": "2021-06-14T18:43:25.259861",
     "exception": false,
     "start_time": "2021-06-14T18:43:25.219109",
     "status": "completed"
    },
    "tags": []
   },
   "source": [
    "***Random Forest Report and Analysis***"
   ]
  },
  {
   "cell_type": "code",
   "execution_count": 23,
   "id": "cathedral-bridges",
   "metadata": {
    "execution": {
     "iopub.execute_input": "2021-06-14T18:43:25.349816Z",
     "iopub.status.busy": "2021-06-14T18:43:25.349129Z",
     "iopub.status.idle": "2021-06-14T18:43:26.975756Z",
     "shell.execute_reply": "2021-06-14T18:43:26.976222Z",
     "shell.execute_reply.started": "2021-06-14T17:35:56.208618Z"
    },
    "papermill": {
     "duration": 1.675789,
     "end_time": "2021-06-14T18:43:26.976404",
     "exception": false,
     "start_time": "2021-06-14T18:43:25.300615",
     "status": "completed"
    },
    "tags": []
   },
   "outputs": [
    {
     "name": "stdout",
     "output_type": "stream",
     "text": [
      "Train Accuracy score: 1.0\n",
      "Test Accuracy score: 0.8748333333333334\n",
      "              precision    recall  f1-score   support\n",
      "\n",
      "           0       0.80      0.87      0.83       574\n",
      "           1       1.00      0.96      0.98       596\n",
      "           2       0.77      0.82      0.80       573\n",
      "           3       0.88      0.91      0.90       624\n",
      "           4       0.81      0.83      0.82       635\n",
      "           5       0.94      0.93      0.93       632\n",
      "           6       0.73      0.60      0.66       600\n",
      "           7       0.92      0.94      0.93       604\n",
      "           8       0.94      0.96      0.95       598\n",
      "           9       0.94      0.95      0.94       564\n",
      "\n",
      "    accuracy                           0.87      6000\n",
      "   macro avg       0.87      0.87      0.87      6000\n",
      "weighted avg       0.87      0.87      0.87      6000\n",
      "\n"
     ]
    }
   ],
   "source": [
    "y_train_forest = random_forest.predict(X_train_PCA1)\n",
    "y_pred_forest = random_forest.predict(X_test_pca)\n",
    "random_forest_train = metrics.accuracy_score(y_train,y_train_forest)\n",
    "random_forest_accuracy = metrics.accuracy_score(y_val, y_pred_forest)\n",
    "\n",
    "print(\"Train Accuracy score: {}\".format(random_forest_train))\n",
    "print(\"Test Accuracy score: {}\".format(random_forest_accuracy))\n",
    "print(metrics.classification_report(y_val, y_pred_forest))"
   ]
  },
  {
   "cell_type": "code",
   "execution_count": 24,
   "id": "greek-particle",
   "metadata": {
    "execution": {
     "iopub.execute_input": "2021-06-14T18:43:27.061576Z",
     "iopub.status.busy": "2021-06-14T18:43:27.060932Z",
     "iopub.status.idle": "2021-06-14T18:43:27.726784Z",
     "shell.execute_reply": "2021-06-14T18:43:27.727269Z",
     "shell.execute_reply.started": "2021-06-14T17:35:57.972713Z"
    },
    "papermill": {
     "duration": 0.709992,
     "end_time": "2021-06-14T18:43:27.727449",
     "exception": false,
     "start_time": "2021-06-14T18:43:27.017457",
     "status": "completed"
    },
    "tags": []
   },
   "outputs": [
    {
     "data": {
      "image/png": "[encoded data removed]",
      "text/plain": [
       "<Figure size 648x432 with 2 Axes>"
      ]
     },
     "metadata": {
      "needs_background": "light"
     },
     "output_type": "display_data"
    }
   ],
   "source": [
    "con_matrix = pd.crosstab(pd.Series(y_val.values.flatten(), name='Actual' ),pd.Series(y_pred_forest, name='Predicted'))\n",
    "plt.figure(figsize = (9,6))\n",
    "plt.title(\"Confusion Matrix on Logistic Regression\")\n",
    "sns.heatmap(con_matrix, cmap=\"Blues\", annot=True, fmt='g')\n",
    "plt.show()"
   ]
  },
  {
   "cell_type": "markdown",
   "id": "green-crest",
   "metadata": {
    "papermill": {
     "duration": 0.042152,
     "end_time": "2021-06-14T18:43:27.812006",
     "exception": false,
     "start_time": "2021-06-14T18:43:27.769854",
     "status": "completed"
    },
    "tags": []
   },
   "source": [
    "***Gradient Boosting Report and Analysis***"
   ]
  },
  {
   "cell_type": "code",
   "execution_count": 25,
   "id": "eight-patent",
   "metadata": {
    "execution": {
     "iopub.execute_input": "2021-06-14T18:43:27.900174Z",
     "iopub.status.busy": "2021-06-14T18:43:27.899515Z",
     "iopub.status.idle": "2021-06-14T18:43:29.639046Z",
     "shell.execute_reply": "2021-06-14T18:43:29.639564Z",
     "shell.execute_reply.started": "2021-06-14T17:35:58.65884Z"
    },
    "papermill": {
     "duration": 1.785401,
     "end_time": "2021-06-14T18:43:29.639767",
     "exception": false,
     "start_time": "2021-06-14T18:43:27.854366",
     "status": "completed"
    },
    "tags": []
   },
   "outputs": [
    {
     "name": "stdout",
     "output_type": "stream",
     "text": [
      "Train Accuracy score: 0.8792407407407408\n",
      "Test Accuracy score: 0.859\n",
      "              precision    recall  f1-score   support\n",
      "\n",
      "           0       0.79      0.84      0.81       574\n",
      "           1       0.99      0.97      0.98       596\n",
      "           2       0.78      0.77      0.78       573\n",
      "           3       0.85      0.88      0.87       624\n",
      "           4       0.79      0.80      0.79       635\n",
      "           5       0.94      0.90      0.92       632\n",
      "           6       0.67      0.61      0.64       600\n",
      "           7       0.91      0.93      0.92       604\n",
      "           8       0.94      0.94      0.94       598\n",
      "           9       0.92      0.95      0.94       564\n",
      "\n",
      "    accuracy                           0.86      6000\n",
      "   macro avg       0.86      0.86      0.86      6000\n",
      "weighted avg       0.86      0.86      0.86      6000\n",
      "\n"
     ]
    }
   ],
   "source": [
    "y_train_gradient = Gradient.predict(X_train_PCA1)\n",
    "y_pred_gradient = Gradient.predict(X_test_pca)\n",
    "gradient_train = metrics.accuracy_score(y_train,y_train_gradient)\n",
    "gradient_accuracy = metrics.accuracy_score(y_val, y_pred_gradient)\n",
    "\n",
    "print(\"Train Accuracy score: {}\".format(gradient_train))\n",
    "print(\"Test Accuracy score: {}\".format(gradient_accuracy))\n",
    "print(metrics.classification_report(y_val, y_pred_gradient))"
   ]
  },
  {
   "cell_type": "code",
   "execution_count": 26,
   "id": "better-guest",
   "metadata": {
    "execution": {
     "iopub.execute_input": "2021-06-14T18:43:29.734604Z",
     "iopub.status.busy": "2021-06-14T18:43:29.733980Z",
     "iopub.status.idle": "2021-06-14T18:43:30.377593Z",
     "shell.execute_reply": "2021-06-14T18:43:30.376545Z",
     "shell.execute_reply.started": "2021-06-14T17:36:00.968468Z"
    },
    "papermill": {
     "duration": 0.694611,
     "end_time": "2021-06-14T18:43:30.377788",
     "exception": false,
     "start_time": "2021-06-14T18:43:29.683177",
     "status": "completed"
    },
    "tags": []
   },
   "outputs": [
    {
     "data": {
      "image/png": "[encoded data removed]",
      "text/plain": [
       "<Figure size 648x432 with 2 Axes>"
      ]
     },
     "metadata": {
      "needs_background": "light"
     },
     "output_type": "display_data"
    }
   ],
   "source": [
    "con_matrix = pd.crosstab(pd.Series(y_val.values.flatten(), name='Actual' ),pd.Series(y_pred_gradient, name='Predicted'))\n",
    "plt.figure(figsize = (9,6))\n",
    "plt.title(\"Confusion Matrix on Logistic Regression\")\n",
    "sns.heatmap(con_matrix, cmap=\"Blues\", annot=True, fmt='g')\n",
    "plt.show()"
   ]
  },
  {
   "cell_type": "markdown",
   "id": "spread-twist",
   "metadata": {
    "papermill": {
     "duration": 0.043591,
     "end_time": "2021-06-14T18:43:30.465813",
     "exception": false,
     "start_time": "2021-06-14T18:43:30.422222",
     "status": "completed"
    },
    "tags": []
   },
   "source": [
    "***XGBoost Report and Analysis***"
   ]
  },
  {
   "cell_type": "code",
   "execution_count": 27,
   "id": "exposed-oxygen",
   "metadata": {
    "execution": {
     "iopub.execute_input": "2021-06-14T18:43:30.559948Z",
     "iopub.status.busy": "2021-06-14T18:43:30.558951Z",
     "iopub.status.idle": "2021-06-14T18:43:31.299833Z",
     "shell.execute_reply": "2021-06-14T18:43:31.300558Z",
     "shell.execute_reply.started": "2021-06-14T17:36:01.651201Z"
    },
    "papermill": {
     "duration": 0.791171,
     "end_time": "2021-06-14T18:43:31.300815",
     "exception": false,
     "start_time": "2021-06-14T18:43:30.509644",
     "status": "completed"
    },
    "tags": []
   },
   "outputs": [
    {
     "name": "stdout",
     "output_type": "stream",
     "text": [
      "Train Accuracy score: 0.9990370370370371\n",
      "Test Accuracy score: 0.8851666666666667\n",
      "              precision    recall  f1-score   support\n",
      "\n",
      "           0       0.82      0.85      0.83       574\n",
      "           1       1.00      0.97      0.99       596\n",
      "           2       0.80      0.80      0.80       573\n",
      "           3       0.89      0.90      0.90       624\n",
      "           4       0.83      0.82      0.82       635\n",
      "           5       0.97      0.94      0.95       632\n",
      "           6       0.70      0.68      0.69       600\n",
      "           7       0.93      0.97      0.95       604\n",
      "           8       0.96      0.96      0.96       598\n",
      "           9       0.96      0.96      0.96       564\n",
      "\n",
      "    accuracy                           0.89      6000\n",
      "   macro avg       0.88      0.89      0.88      6000\n",
      "weighted avg       0.89      0.89      0.89      6000\n",
      "\n"
     ]
    }
   ],
   "source": [
    "y_train_xgboost = xgb.predict(X_train_PCA1)\n",
    "y_pred_xgboost = xgb.predict(X_test_pca)\n",
    "xgb_train = metrics.accuracy_score(y_train,y_train_xgboost)\n",
    "xgb_accuracy = metrics.accuracy_score(y_val, y_pred_xgboost)\n",
    "\n",
    "print(\"Train Accuracy score: {}\".format(xgb_train))\n",
    "print(\"Test Accuracy score: {}\".format(xgb_accuracy))\n",
    "print(metrics.classification_report(y_val, y_pred_xgboost))"
   ]
  },
  {
   "cell_type": "code",
   "execution_count": 28,
   "id": "august-candy",
   "metadata": {
    "execution": {
     "iopub.execute_input": "2021-06-14T18:43:31.393495Z",
     "iopub.status.busy": "2021-06-14T18:43:31.392876Z",
     "iopub.status.idle": "2021-06-14T18:43:32.038627Z",
     "shell.execute_reply": "2021-06-14T18:43:32.039197Z",
     "shell.execute_reply.started": "2021-06-14T17:36:02.418377Z"
    },
    "papermill": {
     "duration": 0.693351,
     "end_time": "2021-06-14T18:43:32.039372",
     "exception": false,
     "start_time": "2021-06-14T18:43:31.346021",
     "status": "completed"
    },
    "tags": []
   },
   "outputs": [
    {
     "data": {
      "image/png": "[encoded data removed]",
      "text/plain": [
       "<Figure size 648x432 with 2 Axes>"
      ]
     },
     "metadata": {
      "needs_background": "light"
     },
     "output_type": "display_data"
    }
   ],
   "source": [
    "con_matrix = pd.crosstab(pd.Series(y_val.values.flatten(), name='Actual' ),pd.Series(y_pred_xgboost, name='Predicted'))\n",
    "plt.figure(figsize = (9,6))\n",
    "plt.title(\"Confusion Matrix on Logistic Regression\")\n",
    "sns.heatmap(con_matrix, cmap=\"Blues\", annot=True, fmt='g')\n",
    "plt.show()"
   ]
  },
  {
   "cell_type": "markdown",
   "id": "excess-pierre",
   "metadata": {
    "papermill": {
     "duration": 0.045179,
     "end_time": "2021-06-14T18:43:32.130226",
     "exception": false,
     "start_time": "2021-06-14T18:43:32.085047",
     "status": "completed"
    },
    "tags": []
   },
   "source": [
    "# Model Comparison"
   ]
  },
  {
   "cell_type": "code",
   "execution_count": 29,
   "id": "progressive-multimedia",
   "metadata": {
    "execution": {
     "iopub.execute_input": "2021-06-14T18:43:32.225055Z",
     "iopub.status.busy": "2021-06-14T18:43:32.224418Z",
     "iopub.status.idle": "2021-06-14T18:43:32.230210Z",
     "shell.execute_reply": "2021-06-14T18:43:32.230741Z",
     "shell.execute_reply.started": "2021-06-14T17:36:03.093405Z"
    },
    "papermill": {
     "duration": 0.054722,
     "end_time": "2021-06-14T18:43:32.230912",
     "exception": false,
     "start_time": "2021-06-14T18:43:32.176190",
     "status": "completed"
    },
    "tags": []
   },
   "outputs": [],
   "source": [
    "Train_Accuracy = [logistic_train,svc_train,random_forest_train,gradient_train,xgb_train]\n",
    "Test_Accuracy = [logistic_accuracy,svc_accuracy,random_forest_accuracy,gradient_accuracy,xgb_accuracy]\n",
    "data1 = {\n",
    "    'Algorithm': ['Logistic Regression','SVC','Random Forest Classifier','Gradient Boosting','XGBoost'],\n",
    "    'Train Accuracy':Train_Accuracy,\n",
    "    'Test Accuracy':Test_Accuracy\n",
    "}\n",
    "\n",
    "df1 = pd.DataFrame(data1)"
   ]
  },
  {
   "cell_type": "code",
   "execution_count": 30,
   "id": "stretch-savannah",
   "metadata": {
    "execution": {
     "iopub.execute_input": "2021-06-14T18:43:32.324781Z",
     "iopub.status.busy": "2021-06-14T18:43:32.324133Z",
     "iopub.status.idle": "2021-06-14T18:43:32.335513Z",
     "shell.execute_reply": "2021-06-14T18:43:32.334853Z",
     "shell.execute_reply.started": "2021-06-14T17:36:03.105394Z"
    },
    "papermill": {
     "duration": 0.059212,
     "end_time": "2021-06-14T18:43:32.335657",
     "exception": false,
     "start_time": "2021-06-14T18:43:32.276445",
     "status": "completed"
    },
    "tags": []
   },
   "outputs": [
    {
     "data": {
      "text/html": [
       "<div>\n",
       "<style scoped>\n",
       "    .dataframe tbody tr th:only-of-type {\n",
       "        vertical-align: middle;\n",
       "    }\n",
       "\n",
       "    .dataframe tbody tr th {\n",
       "        vertical-align: top;\n",
       "    }\n",
       "\n",
       "    .dataframe thead th {\n",
       "        text-align: right;\n",
       "    }\n",
       "</style>\n",
       "<table border=\"1\" class=\"dataframe\">\n",
       "  <thead>\n",
       "    <tr style=\"text-align: right;\">\n",
       "      <th></th>\n",
       "      <th>Algorithm</th>\n",
       "      <th>Train Accuracy</th>\n",
       "      <th>Test Accuracy</th>\n",
       "    </tr>\n",
       "  </thead>\n",
       "  <tbody>\n",
       "    <tr>\n",
       "      <th>0</th>\n",
       "      <td>Logistic Regression</td>\n",
       "      <td>0.846204</td>\n",
       "      <td>0.851000</td>\n",
       "    </tr>\n",
       "    <tr>\n",
       "      <th>1</th>\n",
       "      <td>SVC</td>\n",
       "      <td>0.942556</td>\n",
       "      <td>0.906000</td>\n",
       "    </tr>\n",
       "    <tr>\n",
       "      <th>2</th>\n",
       "      <td>Random Forest Classifier</td>\n",
       "      <td>1.000000</td>\n",
       "      <td>0.874833</td>\n",
       "    </tr>\n",
       "    <tr>\n",
       "      <th>3</th>\n",
       "      <td>Gradient Boosting</td>\n",
       "      <td>0.879241</td>\n",
       "      <td>0.859000</td>\n",
       "    </tr>\n",
       "    <tr>\n",
       "      <th>4</th>\n",
       "      <td>XGBoost</td>\n",
       "      <td>0.999037</td>\n",
       "      <td>0.885167</td>\n",
       "    </tr>\n",
       "  </tbody>\n",
       "</table>\n",
       "</div>"
      ],
      "text/plain": [
       "                  Algorithm  Train Accuracy  Test Accuracy\n",
       "0       Logistic Regression        0.846204       0.851000\n",
       "1                       SVC        0.942556       0.906000\n",
       "2  Random Forest Classifier        1.000000       0.874833\n",
       "3         Gradient Boosting        0.879241       0.859000\n",
       "4                   XGBoost        0.999037       0.885167"
      ]
     },
     "execution_count": 30,
     "metadata": {},
     "output_type": "execute_result"
    }
   ],
   "source": [
    "df1"
   ]
  },
  {
   "cell_type": "code",
   "execution_count": 31,
   "id": "legislative-maldives",
   "metadata": {
    "execution": {
     "iopub.execute_input": "2021-06-14T18:43:32.432335Z",
     "iopub.status.busy": "2021-06-14T18:43:32.431732Z",
     "iopub.status.idle": "2021-06-14T18:43:32.578196Z",
     "shell.execute_reply": "2021-06-14T18:43:32.577583Z",
     "shell.execute_reply.started": "2021-06-14T17:36:03.13227Z"
    },
    "papermill": {
     "duration": 0.19602,
     "end_time": "2021-06-14T18:43:32.578348",
     "exception": false,
     "start_time": "2021-06-14T18:43:32.382328",
     "status": "completed"
    },
    "tags": []
   },
   "outputs": [
    {
     "data": {
      "text/html": [
       "        <script type=\"text/javascript\">\n",
       "        window.PlotlyConfig = {MathJaxConfig: 'local'};\n",
       "        if (window.MathJax) {MathJax.Hub.Config({SVG: {font: \"STIX-Web\"}});}\n",
       "        if (typeof require !== 'undefined') {\n",
       "        require.undef(\"plotly\");\n",
       "        requirejs.config({\n",
       "            paths: {\n",
       "                'plotly': ['https://cdn.plot.ly/plotly-latest.min']\n",
       "            }\n",
       "        });\n",
       "        require(['plotly'], function(Plotly) {\n",
       "            window._Plotly = Plotly;\n",
       "        });\n",
       "        }\n",
       "        </script>\n",
       "        "
      ]
     },
     "metadata": {},
     "output_type": "display_data"
    },
    {
     "data": {
      "text/html": [
       "<div>                            <div id=\"4614cbb8-fea9-424d-bce4-a31985ddc051\" class=\"plotly-graph-div\" style=\"height:525px; width:100%;\"></div>            <script type=\"text/javascript\">                require([\"plotly\"], function(Plotly) {                    window.PLOTLYENV=window.PLOTLYENV || {};                                    if (document.getElementById(\"4614cbb8-fea9-424d-bce4-a31985ddc051\")) {                    Plotly.newPlot(                        \"4614cbb8-fea9-424d-bce4-a31985ddc051\",                        [{\"name\": \"train set\", \"text\": [0.85, 0.94, 1.0, 0.88, 1.0], \"textposition\": \"outside\", \"type\": \"bar\", \"x\": [\"Logistic Regression\", \"SVC\", \"Random Forest Classifier\", \"Gradient Boosting\", \"XGBoost\"], \"y\": [0.8462037037037037, 0.9425555555555556, 1.0, 0.8792407407407408, 0.9990370370370371]}, {\"name\": \"test set\", \"text\": [0.85, 0.91, 0.87, 0.86, 0.89], \"textposition\": \"outside\", \"type\": \"bar\", \"x\": [\"Logistic Regression\", \"SVC\", \"Random Forest Classifier\", \"Gradient Boosting\", \"XGBoost\"], \"y\": [0.851, 0.906, 0.8748333333333334, 0.859, 0.8851666666666667]}],                        {\"barmode\": \"group\", \"template\": {\"data\": {\"bar\": [{\"error_x\": {\"color\": \"#2a3f5f\"}, \"error_y\": {\"color\": \"#2a3f5f\"}, \"marker\": {\"line\": {\"color\": \"#E5ECF6\", \"width\": 0.5}}, \"type\": \"bar\"}], \"barpolar\": [{\"marker\": {\"line\": {\"color\": \"#E5ECF6\", \"width\": 0.5}}, \"type\": \"barpolar\"}], \"carpet\": [{\"aaxis\": {\"endlinecolor\": \"#2a3f5f\", \"gridcolor\": \"white\", \"linecolor\": \"white\", \"minorgridcolor\": \"white\", \"startlinecolor\": \"#2a3f5f\"}, \"baxis\": {\"endlinecolor\": \"#2a3f5f\", \"gridcolor\": \"white\", \"linecolor\": \"white\", \"minorgridcolor\": \"white\", \"startlinecolor\": \"#2a3f5f\"}, \"type\": \"carpet\"}], \"choropleth\": [{\"colorbar\": {\"outlinewidth\": 0, \"ticks\": \"\"}, \"type\": \"choropleth\"}], \"contour\": [{\"colorbar\": {\"outlinewidth\": 0, \"ticks\": \"\"}, \"colorscale\": [[0.0, \"#0d0887\"], [0.1111111111111111, \"#46039f\"], [0.2222222222222222, \"#7201a8\"], [0.3333333333333333, \"#9c179e\"], [0.4444444444444444, \"#bd3786\"], [0.5555555555555556, \"#d8576b\"], [0.6666666666666666, \"#ed7953\"], [0.7777777777777778, \"#fb9f3a\"], [0.8888888888888888, \"#fdca26\"], [1.0, \"#f0f921\"]], \"type\": \"contour\"}], \"contourcarpet\": [{\"colorbar\": {\"outlinewidth\": 0, \"ticks\": \"\"}, \"type\": \"contourcarpet\"}], \"heatmap\": [{\"colorbar\": {\"outlinewidth\": 0, \"ticks\": \"\"}, \"colorscale\": [[0.0, \"#0d0887\"], [0.1111111111111111, \"#46039f\"], [0.2222222222222222, \"#7201a8\"], [0.3333333333333333, \"#9c179e\"], [0.4444444444444444, \"#bd3786\"], [0.5555555555555556, \"#d8576b\"], [0.6666666666666666, \"#ed7953\"], [0.7777777777777778, \"#fb9f3a\"], [0.8888888888888888, \"#fdca26\"], [1.0, \"#f0f921\"]], \"type\": \"heatmap\"}], \"heatmapgl\": [{\"colorbar\": {\"outlinewidth\": 0, \"ticks\": \"\"}, \"colorscale\": [[0.0, \"#0d0887\"], [0.1111111111111111, \"#46039f\"], [0.2222222222222222, \"#7201a8\"], [0.3333333333333333, \"#9c179e\"], [0.4444444444444444, \"#bd3786\"], [0.5555555555555556, \"#d8576b\"], [0.6666666666666666, \"#ed7953\"], [0.7777777777777778, \"#fb9f3a\"], [0.8888888888888888, \"#fdca26\"], [1.0, \"#f0f921\"]], \"type\": \"heatmapgl\"}], \"histogram\": [{\"marker\": {\"colorbar\": {\"outlinewidth\": 0, \"ticks\": \"\"}}, \"type\": \"histogram\"}], \"histogram2d\": [{\"colorbar\": {\"outlinewidth\": 0, \"ticks\": \"\"}, \"colorscale\": [[0.0, \"#0d0887\"], [0.1111111111111111, \"#46039f\"], [0.2222222222222222, \"#7201a8\"], [0.3333333333333333, \"#9c179e\"], [0.4444444444444444, \"#bd3786\"], [0.5555555555555556, \"#d8576b\"], [0.6666666666666666, \"#ed7953\"], [0.7777777777777778, \"#fb9f3a\"], [0.8888888888888888, \"#fdca26\"], [1.0, \"#f0f921\"]], \"type\": \"histogram2d\"}], \"histogram2dcontour\": [{\"colorbar\": {\"outlinewidth\": 0, \"ticks\": \"\"}, \"colorscale\": [[0.0, \"#0d0887\"], [0.1111111111111111, \"#46039f\"], [0.2222222222222222, \"#7201a8\"], [0.3333333333333333, \"#9c179e\"], [0.4444444444444444, \"#bd3786\"], [0.5555555555555556, \"#d8576b\"], [0.6666666666666666, \"#ed7953\"], [0.7777777777777778, \"#fb9f3a\"], [0.8888888888888888, \"#fdca26\"], [1.0, \"#f0f921\"]], \"type\": \"histogram2dcontour\"}], \"mesh3d\": [{\"colorbar\": {\"outlinewidth\": 0, \"ticks\": \"\"}, \"type\": \"mesh3d\"}], \"parcoords\": [{\"line\": {\"colorbar\": {\"outlinewidth\": 0, \"ticks\": \"\"}}, \"type\": \"parcoords\"}], \"pie\": [{\"automargin\": true, \"type\": \"pie\"}], \"scatter\": [{\"marker\": {\"colorbar\": {\"outlinewidth\": 0, \"ticks\": \"\"}}, \"type\": \"scatter\"}], \"scatter3d\": [{\"line\": {\"colorbar\": {\"outlinewidth\": 0, \"ticks\": \"\"}}, \"marker\": {\"colorbar\": {\"outlinewidth\": 0, \"ticks\": \"\"}}, \"type\": \"scatter3d\"}], \"scattercarpet\": [{\"marker\": {\"colorbar\": {\"outlinewidth\": 0, \"ticks\": \"\"}}, \"type\": \"scattercarpet\"}], \"scattergeo\": [{\"marker\": {\"colorbar\": {\"outlinewidth\": 0, \"ticks\": \"\"}}, \"type\": \"scattergeo\"}], \"scattergl\": [{\"marker\": {\"colorbar\": {\"outlinewidth\": 0, \"ticks\": \"\"}}, \"type\": \"scattergl\"}], \"scattermapbox\": [{\"marker\": {\"colorbar\": {\"outlinewidth\": 0, \"ticks\": \"\"}}, \"type\": \"scattermapbox\"}], \"scatterpolar\": [{\"marker\": {\"colorbar\": {\"outlinewidth\": 0, \"ticks\": \"\"}}, \"type\": \"scatterpolar\"}], \"scatterpolargl\": [{\"marker\": {\"colorbar\": {\"outlinewidth\": 0, \"ticks\": \"\"}}, \"type\": \"scatterpolargl\"}], \"scatterternary\": [{\"marker\": {\"colorbar\": {\"outlinewidth\": 0, \"ticks\": \"\"}}, \"type\": \"scatterternary\"}], \"surface\": [{\"colorbar\": {\"outlinewidth\": 0, \"ticks\": \"\"}, \"colorscale\": [[0.0, \"#0d0887\"], [0.1111111111111111, \"#46039f\"], [0.2222222222222222, \"#7201a8\"], [0.3333333333333333, \"#9c179e\"], [0.4444444444444444, \"#bd3786\"], [0.5555555555555556, \"#d8576b\"], [0.6666666666666666, \"#ed7953\"], [0.7777777777777778, \"#fb9f3a\"], [0.8888888888888888, \"#fdca26\"], [1.0, \"#f0f921\"]], \"type\": \"surface\"}], \"table\": [{\"cells\": {\"fill\": {\"color\": \"#EBF0F8\"}, \"line\": {\"color\": \"white\"}}, \"header\": {\"fill\": {\"color\": \"#C8D4E3\"}, \"line\": {\"color\": \"white\"}}, \"type\": \"table\"}]}, \"layout\": {\"annotationdefaults\": {\"arrowcolor\": \"#2a3f5f\", \"arrowhead\": 0, \"arrowwidth\": 1}, \"autotypenumbers\": \"strict\", \"coloraxis\": {\"colorbar\": {\"outlinewidth\": 0, \"ticks\": \"\"}}, \"colorscale\": {\"diverging\": [[0, \"#8e0152\"], [0.1, \"#c51b7d\"], [0.2, \"#de77ae\"], [0.3, \"#f1b6da\"], [0.4, \"#fde0ef\"], [0.5, \"#f7f7f7\"], [0.6, \"#e6f5d0\"], [0.7, \"#b8e186\"], [0.8, \"#7fbc41\"], [0.9, \"#4d9221\"], [1, \"#276419\"]], \"sequential\": [[0.0, \"#0d0887\"], [0.1111111111111111, \"#46039f\"], [0.2222222222222222, \"#7201a8\"], [0.3333333333333333, \"#9c179e\"], [0.4444444444444444, \"#bd3786\"], [0.5555555555555556, \"#d8576b\"], [0.6666666666666666, \"#ed7953\"], [0.7777777777777778, \"#fb9f3a\"], [0.8888888888888888, \"#fdca26\"], [1.0, \"#f0f921\"]], \"sequentialminus\": [[0.0, \"#0d0887\"], [0.1111111111111111, \"#46039f\"], [0.2222222222222222, \"#7201a8\"], [0.3333333333333333, \"#9c179e\"], [0.4444444444444444, \"#bd3786\"], [0.5555555555555556, \"#d8576b\"], [0.6666666666666666, \"#ed7953\"], [0.7777777777777778, \"#fb9f3a\"], [0.8888888888888888, \"#fdca26\"], [1.0, \"#f0f921\"]]}, \"colorway\": [\"#636efa\", \"#EF553B\", \"#00cc96\", \"#ab63fa\", \"#FFA15A\", \"#19d3f3\", \"#FF6692\", \"#B6E880\", \"#FF97FF\", \"#FECB52\"], \"font\": {\"color\": \"#2a3f5f\"}, \"geo\": {\"bgcolor\": \"white\", \"lakecolor\": \"white\", \"landcolor\": \"#E5ECF6\", \"showlakes\": true, \"showland\": true, \"subunitcolor\": \"white\"}, \"hoverlabel\": {\"align\": \"left\"}, \"hovermode\": \"closest\", \"mapbox\": {\"style\": \"light\"}, \"paper_bgcolor\": \"white\", \"plot_bgcolor\": \"#E5ECF6\", \"polar\": {\"angularaxis\": {\"gridcolor\": \"white\", \"linecolor\": \"white\", \"ticks\": \"\"}, \"bgcolor\": \"#E5ECF6\", \"radialaxis\": {\"gridcolor\": \"white\", \"linecolor\": \"white\", \"ticks\": \"\"}}, \"scene\": {\"xaxis\": {\"backgroundcolor\": \"#E5ECF6\", \"gridcolor\": \"white\", \"gridwidth\": 2, \"linecolor\": \"white\", \"showbackground\": true, \"ticks\": \"\", \"zerolinecolor\": \"white\"}, \"yaxis\": {\"backgroundcolor\": \"#E5ECF6\", \"gridcolor\": \"white\", \"gridwidth\": 2, \"linecolor\": \"white\", \"showbackground\": true, \"ticks\": \"\", \"zerolinecolor\": \"white\"}, \"zaxis\": {\"backgroundcolor\": \"#E5ECF6\", \"gridcolor\": \"white\", \"gridwidth\": 2, \"linecolor\": \"white\", \"showbackground\": true, \"ticks\": \"\", \"zerolinecolor\": \"white\"}}, \"shapedefaults\": {\"line\": {\"color\": \"#2a3f5f\"}}, \"ternary\": {\"aaxis\": {\"gridcolor\": \"white\", \"linecolor\": \"white\", \"ticks\": \"\"}, \"baxis\": {\"gridcolor\": \"white\", \"linecolor\": \"white\", \"ticks\": \"\"}, \"bgcolor\": \"#E5ECF6\", \"caxis\": {\"gridcolor\": \"white\", \"linecolor\": \"white\", \"ticks\": \"\"}}, \"title\": {\"x\": 0.05}, \"xaxis\": {\"automargin\": true, \"gridcolor\": \"white\", \"linecolor\": \"white\", \"ticks\": \"\", \"title\": {\"standoff\": 15}, \"zerolinecolor\": \"white\", \"zerolinewidth\": 2}, \"yaxis\": {\"automargin\": true, \"gridcolor\": \"white\", \"linecolor\": \"white\", \"ticks\": \"\", \"title\": {\"standoff\": 15}, \"zerolinecolor\": \"white\", \"zerolinewidth\": 2}}}, \"title\": {\"text\": \"Accuracy Comparison On Different Models\"}, \"yaxis\": {\"title\": {\"text\": \"Accuracy\"}}},                        {\"responsive\": true}                    ).then(function(){\n",
       "                            \n",
       "var gd = document.getElementById('4614cbb8-fea9-424d-bce4-a31985ddc051');\n",
       "var x = new MutationObserver(function (mutations, observer) {{\n",
       "        var display = window.getComputedStyle(gd).display;\n",
       "        if (!display || display === 'none') {{\n",
       "            console.log([gd, 'removed!']);\n",
       "            Plotly.purge(gd);\n",
       "            observer.disconnect();\n",
       "        }}\n",
       "}});\n",
       "\n",
       "// Listen for the removal of the full notebook cells\n",
       "var notebookContainer = gd.closest('#notebook-container');\n",
       "if (notebookContainer) {{\n",
       "    x.observe(notebookContainer, {childList: true});\n",
       "}}\n",
       "\n",
       "// Listen for the clearing of the current output cell\n",
       "var outputEl = gd.closest('.output');\n",
       "if (outputEl) {{\n",
       "    x.observe(outputEl, {childList: true});\n",
       "}}\n",
       "\n",
       "                        })                };                });            </script>        </div>"
      ]
     },
     "metadata": {},
     "output_type": "display_data"
    }
   ],
   "source": [
    "fig = go.Figure(data=[\n",
    "    go.Bar(name='train set', x=data1['Algorithm'], y=data1['Train Accuracy'],text=np.round(data1['Train Accuracy'],2),textposition='outside'),\n",
    "    go.Bar(name='test set', x=data1['Algorithm'], y=data1['Test Accuracy'],text=np.round(data1['Test Accuracy'],2),textposition='outside')\n",
    "])\n",
    "\n",
    "fig.update_layout(barmode='group',title_text='Accuracy Comparison On Different Models',yaxis=dict(\n",
    "        title='Accuracy'))\n",
    "fig.show()"
   ]
  },
  {
   "cell_type": "markdown",
   "id": "seasonal-marine",
   "metadata": {
    "papermill": {
     "duration": 0.046662,
     "end_time": "2021-06-14T18:43:32.672654",
     "exception": false,
     "start_time": "2021-06-14T18:43:32.625992",
     "status": "completed"
    },
    "tags": []
   },
   "source": [
    "# **Conclusion**"
   ]
  },
  {
   "cell_type": "markdown",
   "id": "coordinated-wisdom",
   "metadata": {
    "papermill": {
     "duration": 0.046636,
     "end_time": "2021-06-14T18:43:32.766214",
     "exception": false,
     "start_time": "2021-06-14T18:43:32.719578",
     "status": "completed"
    },
    "tags": []
   },
   "source": [
    "**1. **Computation Time****\n",
    "\n",
    "\n",
    "# Gradient Boost>XGBoost>SVC>Random Forest>Logistic Regeression"
   ]
  },
  {
   "cell_type": "markdown",
   "id": "extensive-spectrum",
   "metadata": {
    "papermill": {
     "duration": 0.046258,
     "end_time": "2021-06-14T18:43:32.859361",
     "exception": false,
     "start_time": "2021-06-14T18:43:32.813103",
     "status": "completed"
    },
    "tags": []
   },
   "source": [
    "**2. Train Accuracy**\n",
    "\n",
    "\n",
    "# Random Forest>XGBoost>SVC>Gradient Boost>Logistic Regression"
   ]
  },
  {
   "cell_type": "markdown",
   "id": "apart-finance",
   "metadata": {
    "papermill": {
     "duration": 0.04714,
     "end_time": "2021-06-14T18:43:32.953143",
     "exception": false,
     "start_time": "2021-06-14T18:43:32.906003",
     "status": "completed"
    },
    "tags": []
   },
   "source": [
    "**3. Test Accuracy**\n",
    "\n",
    "\n",
    "# SVC>XGBoost>Random Forest>Gradient Boost>Logistic Regression"
   ]
  }
 ],
 "metadata": {
  "kernelspec": {
   "display_name": "Python 3",
   "language": "python",
   "name": "python3"
  },
  "language_info": {
   "codemirror_mode": {
    "name": "ipython",
    "version": 3
   },
   "file_extension": ".py",
   "mimetype": "text/x-python",
   "name": "python",
   "nbconvert_exporter": "python",
   "pygments_lexer": "ipython3",
   "version": "3.7.10"
  },
  "papermill": {
   "default_parameters": {},
   "duration": 3853.827213,
   "end_time": "2021-06-14T18:43:33.812368",
   "environment_variables": {},
   "exception": null,
   "input_path": "__notebook__.ipynb",
   "output_path": "__notebook__.ipynb",
   "parameters": {},
   "start_time": "2021-06-14T17:39:19.985155",
   "version": "2.3.3"
  }
 },
 "nbformat": 4,
 "nbformat_minor": 5
}
