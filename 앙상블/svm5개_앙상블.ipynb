{
  "cells": [
    {
      "cell_type": "code",
      "execution_count": null,
      "metadata": {
        "colab": {
          "base_uri": "https://localhost:8080/"
        },
        "id": "2EidDw8z3yBZ",
        "outputId": "d9142a7c-f89a-41b6-bb92-85fd1d2fef77"
      },
      "outputs": [
        {
          "name": "stdout",
          "output_type": "stream",
          "text": [
            "Mounted at /content/drive\n"
          ]
        }
      ],
      "source": [
        "from google.colab import drive\n",
        "drive.mount('/content/drive')"
      ],
      "id": "2EidDw8z3yBZ"
    },
    {
      "cell_type": "markdown",
      "metadata": {
        "id": "painted-destiny"
      },
      "source": [
        "# Import packages"
      ],
      "id": "painted-destiny"
    },
    {
      "cell_type": "code",
      "execution_count": null,
      "metadata": {
        "id": "domestic-hayes"
      },
      "outputs": [],
      "source": [
        "from sklearn.metrics import accuracy_score\n",
        "import matplotlib.pyplot as plt\n",
        "import seaborn as sns\n",
        "import plotly.graph_objects as go\n",
        "from sklearn.metrics import confusion_matrix\n",
        "from sklearn import metrics\n",
        "from sklearn.decomposition import PCA\n",
        "from sklearn.svm import SVC\n",
        "from sklearn import ensemble\n",
        "from xgboost import XGBClassifier\n",
        "import time\n",
        "import numpy as np\n",
        "import pandas as pd\n",
        "from sklearn.model_selection import StratifiedKFold\n",
        "from sklearn.model_selection import GridSearchCV\n",
        "from sklearn.ensemble import RandomForestClassifier, GradientBoostingClassifier, ExtraTreesClassifier, VotingClassifier"
      ],
      "id": "domestic-hayes"
    },
    {
      "cell_type": "code",
      "execution_count": null,
      "metadata": {
        "id": "surgical-removal"
      },
      "outputs": [],
      "source": [
        "import warnings\n",
        "warnings.filterwarnings(action='ignore', category=UserWarning)"
      ],
      "id": "surgical-removal"
    },
    {
      "cell_type": "markdown",
      "metadata": {
        "id": "knowing-pointer"
      },
      "source": [
        "# Load dataset"
      ],
      "id": "knowing-pointer"
    },
    {
      "cell_type": "code",
      "execution_count": null,
      "metadata": {
        "id": "registered-criminal"
      },
      "outputs": [],
      "source": [
        "train = pd.read_csv('drive/MyDrive/Colab Notebooks/fashion-mnist_train.csv')\n",
        "test = pd.read_csv('drive/MyDrive/Colab Notebooks/fashion-mnist_test.csv')"
      ],
      "id": "registered-criminal"
    },
    {
      "cell_type": "code",
      "execution_count": null,
      "metadata": {
        "id": "theoretical-kernel"
      },
      "outputs": [],
      "source": [
        "df_train = train.copy()\n",
        "df_test = test.copy()"
      ],
      "id": "theoretical-kernel"
    },
    {
      "cell_type": "markdown",
      "metadata": {
        "id": "organizational-cedar"
      },
      "source": [
        "# Examine NaN values"
      ],
      "id": "organizational-cedar"
    },
    {
      "cell_type": "code",
      "execution_count": null,
      "metadata": {
        "colab": {
          "base_uri": "https://localhost:8080/"
        },
        "id": "retired-fancy",
        "outputId": "0f997a44-0a10-48fe-b242-b163eb25a484"
      },
      "outputs": [
        {
          "data": {
            "text/plain": [
              "0"
            ]
          },
          "execution_count": 6,
          "metadata": {},
          "output_type": "execute_result"
        }
      ],
      "source": [
        "df_train.isnull().any().sum()"
      ],
      "id": "retired-fancy"
    },
    {
      "cell_type": "code",
      "execution_count": null,
      "metadata": {
        "colab": {
          "base_uri": "https://localhost:8080/"
        },
        "id": "compliant-haven",
        "outputId": "1848d1e9-bb67-46fb-d0b7-0908d5570e20"
      },
      "outputs": [
        {
          "data": {
            "text/plain": [
              "0"
            ]
          },
          "execution_count": 7,
          "metadata": {},
          "output_type": "execute_result"
        }
      ],
      "source": [
        "df_test.isnull().any().sum()"
      ],
      "id": "compliant-haven"
    },
    {
      "cell_type": "markdown",
      "metadata": {
        "id": "mature-tradition"
      },
      "source": [
        "# Separating data and label"
      ],
      "id": "mature-tradition"
    },
    {
      "cell_type": "code",
      "execution_count": null,
      "metadata": {
        "id": "relevant-welding"
      },
      "outputs": [],
      "source": [
        "X_train= df_train.drop(['label'],axis = 1)\n",
        "y_train = df_train['label']\n",
        "X_test = df_test.drop(['label'], axis=1)\n",
        "y_test = df_test['label']  # y_test should be labels"
      ],
      "id": "relevant-welding"
    },
    {
      "cell_type": "markdown",
      "metadata": {
        "id": "bigger-elizabeth"
      },
      "source": [
        "# Normalization\n",
        "The Pixel Values are often stored as Integer Numbers in the range 0 to 255, the range that a single 8-bit byte can offer. They need to be scaled down to [0,1] in order for Optimization Algorithms to work much faster. Here, we acheive Zero Mean and Unit Variance."
      ],
      "id": "bigger-elizabeth"
    },
    {
      "cell_type": "code",
      "execution_count": null,
      "metadata": {
        "id": "contrary-demographic"
      },
      "outputs": [],
      "source": [
        "\n",
        "X_train = X_train.astype('float32')\n",
        "X_test = X_test.astype('float32')  # X_test should be features\n",
        "X_train /= 255.0\n",
        "X_test /= 255.0  # X_test should be features"
      ],
      "id": "contrary-demographic"
    },
    {
      "cell_type": "markdown",
      "metadata": {
        "id": "beneficial-congress"
      },
      "source": [
        "# Dimensionality Reduction using PCA\n",
        "The advantage of PCA (and dimensionality reduction in general) is that it compresses the data down to something that is more effectively modeled. This means that it will, for example, compress away highly correlated and colinear variables, a useful thing to do when trying to run models that would otherwise be sensitive to these sort of data problems."
      ],
      "id": "beneficial-congress"
    },
    {
      "cell_type": "code",
      "execution_count": null,
      "metadata": {
        "id": "sufficient-solid"
      },
      "outputs": [],
      "source": [
        "pca = PCA(n_components=100, random_state=42)\n",
        "X_train_pca = pca.fit_transform(X_train)\n",
        "X_test_pca = pca.transform(X_test)  # Apply PCA transform to test data"
      ],
      "id": "sufficient-solid"
    },
    {
      "cell_type": "markdown",
      "metadata": {
        "id": "professional-hepatitis"
      },
      "source": [
        "# Evaluate the model"
      ],
      "id": "professional-hepatitis"
    },
    {
      "cell_type": "code",
      "execution_count": null,
      "metadata": {
        "colab": {
          "background_save": true,
          "base_uri": "https://localhost:8080/"
        },
        "id": "hBDTzE0hug3c",
        "outputId": "5e5acd77-b893-4721-cccd-b6065cf04537"
      },
      "outputs": [
        {
          "name": "stdout",
          "output_type": "stream",
          "text": [
            "------------------------------------------------------------------------\n",
            "Training for fold 1 ...\n",
            "------------------------------------------------------------------------\n",
            "Training for fold 2 ...\n",
            "------------------------------------------------------------------------\n",
            "Training for fold 3 ...\n",
            "------------------------------------------------------------------------\n",
            "Training for fold 4 ...\n",
            "------------------------------------------------------------------------\n",
            "Training for fold 5 ...\n"
          ]
        }
      ],
      "source": [
        "seed = 42\n",
        "\n",
        "# 5개의 서로 다른 SVM 모델 정의\n",
        "svc1 = SVC(C=4.419450186421157, gamma='scale', kernel='rbf', random_state=seed, probability=True)\n",
        "svc2 = SVC(C=13, gamma=\"auto\", kernel='rbf', random_state=seed+1, probability=True)\n",
        "svc3 = SVC(C=5.0, gamma='scale', kernel='rbf', random_state=seed+2, probability=True)\n",
        "svc4 = SVC(C=10, gamma='scale', kernel='rbf', random_state=seed+3, probability=True)\n",
        "svc5 = SVC(C=8, gamma='scale', kernel='rbf', random_state=seed+4, probability=True)\n",
        "\n",
        "# Define the K-fold Cross Validator\n",
        "kfold = StratifiedKFold(n_splits=5, shuffle=True, random_state=seed)\n",
        "\n",
        "# To store the ensemble models for each fold\n",
        "ensemble_models = []\n",
        "\n",
        "# K-fold Cross Validation model evaluation\n",
        "fold_no = 1\n",
        "for train, val in kfold.split(X_train_pca, y_train):\n",
        "\n",
        "  # 앙상블 모델 정의\n",
        "  eclf = VotingClassifier(estimators=[('svc1', svc1), ('svc2', svc2), ('svc3', svc3), ('svc4', svc4), ('svc5', svc5)], voting='hard')\n",
        "\n",
        "  # Generate a print\n",
        "  print('------------------------------------------------------------------------')\n",
        "  print(f'Training for fold {fold_no} ...')\n",
        "\n",
        "  # Fit data to model\n",
        "  eclf.fit(X_train_pca[train], y_train.iloc[train])\n",
        "\n",
        "  # Save the model\n",
        "  ensemble_models.append(eclf)\n",
        "\n",
        "  fold_no = fold_no + 1\n",
        "\n",
        "# Select the best model\n",
        "best_model = ensemble_models[np.argmax([accuracy_score(y_train, model.predict(X_train_pca)) for model in ensemble_models])]"
      ],
      "id": "hBDTzE0hug3c"
    },
    {
      "cell_type": "markdown",
      "metadata": {
        "id": "genetic-assignment"
      },
      "source": [
        "# Predicting the models"
      ],
      "id": "genetic-assignment"
    },
    {
      "cell_type": "markdown",
      "metadata": {
        "id": "hearing-defendant"
      },
      "source": [
        "***SVM Report and Analysis***"
      ],
      "id": "hearing-defendant"
    },
    {
      "cell_type": "code",
      "execution_count": 14,
      "metadata": {
        "id": "Ytyj0499mEbP",
        "colab": {
          "base_uri": "https://localhost:8080/"
        },
        "outputId": "b8672756-7529-4eb3-a058-02648d6de64a"
      },
      "outputs": [
        {
          "output_type": "stream",
          "name": "stdout",
          "text": [
            "Test Accuracy score: 0.9036\n",
            "              precision    recall  f1-score   support\n",
            "\n",
            "           0       0.84      0.86      0.85      1000\n",
            "           1       0.99      0.98      0.99      1000\n",
            "           2       0.84      0.83      0.84      1000\n",
            "           3       0.91      0.92      0.91      1000\n",
            "           4       0.85      0.86      0.85      1000\n",
            "           5       0.98      0.95      0.97      1000\n",
            "           6       0.76      0.72      0.74      1000\n",
            "           7       0.93      0.96      0.95      1000\n",
            "           8       0.98      0.98      0.98      1000\n",
            "           9       0.96      0.97      0.96      1000\n",
            "\n",
            "    accuracy                           0.90     10000\n",
            "   macro avg       0.90      0.90      0.90     10000\n",
            "weighted avg       0.90      0.90      0.90     10000\n",
            "\n"
          ]
        }
      ],
      "source": [
        "# Make predictions on the test data\n",
        "y_test_pred = best_model.predict(X_test_pca)  # Predict with PCA transformed test data\n",
        "\n",
        "# Calculate the accuracy score\n",
        "test_accuracy = metrics.accuracy_score(y_test, y_test_pred)\n",
        "\n",
        "# Print the test accuracy score\n",
        "print(\"Test Accuracy score: {}\".format(test_accuracy))\n",
        "\n",
        "# Print the classification report\n",
        "print(metrics.classification_report(y_test, y_test_pred))"
      ],
      "id": "Ytyj0499mEbP"
    },
    {
      "cell_type": "code",
      "execution_count": 15,
      "metadata": {
        "id": "txGpOKClv96y",
        "colab": {
          "base_uri": "https://localhost:8080/",
          "height": 564
        },
        "outputId": "1ac3b7ff-eea6-4d0f-d4d5-3dc6109d3a1e"
      },
      "outputs": [
        {
          "output_type": "display_data",
          "data": {
            "text/plain": [
              "<Figure size 900x600 with 2 Axes>"
            ],
            "image/png": "[encoded data removed]"
          },
          "metadata": {}
        }
      ],
      "source": [
        "con_matrix = pd.crosstab(pd.Series(y_test.values.flatten(), name='Actual'), pd.Series(y_test_pred, name='Predicted'))\n",
        "plt.figure(figsize = (9,6))\n",
        "plt.title(\"Confusion Matrix on SVC\")\n",
        "sns.heatmap(con_matrix, cmap=\"Blues\", annot=True, fmt='g')\n",
        "plt.show()"
      ],
      "id": "txGpOKClv96y"
    },
    {
      "cell_type": "code",
      "execution_count": null,
      "metadata": {
        "id": "2Rgx4qv5wdSD"
      },
      "outputs": [],
      "source": [],
      "id": "2Rgx4qv5wdSD"
    }
  ],
  "metadata": {
    "colab": {
      "provenance": []
    },
    "kernelspec": {
      "display_name": "Python 3",
      "name": "python3"
    },
    "language_info": {
      "codemirror_mode": {
        "name": "ipython",
        "version": 3
      },
      "file_extension": ".py",
      "mimetype": "text/x-python",
      "name": "python",
      "nbconvert_exporter": "python",
      "pygments_lexer": "ipython3",
      "version": "3.7.10"
    },
    "papermill": {
      "default_parameters": {},
      "duration": 3853.827213,
      "end_time": "2021-06-14T18:43:33.812368",
      "environment_variables": {},
      "exception": null,
      "input_path": "__notebook__.ipynb",
      "output_path": "__notebook__.ipynb",
      "parameters": {},
      "start_time": "2021-06-14T17:39:19.985155",
      "version": "2.3.3"
    }
  },
  "nbformat": 4,
  "nbformat_minor": 5
}