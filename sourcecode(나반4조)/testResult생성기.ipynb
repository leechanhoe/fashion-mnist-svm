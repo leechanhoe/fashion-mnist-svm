{
  "cells": [
    {
      "cell_type": "markdown",
      "id": "painted-destiny",
      "metadata": {
        "papermill": {
          "duration": 0.034515,
          "end_time": "2021-06-14T17:39:28.892407",
          "exception": false,
          "start_time": "2021-06-14T17:39:28.857892",
          "status": "completed"
        },
        "tags": [],
        "id": "painted-destiny"
      },
      "source": [
        "# Import packages"
      ]
    },
    {
      "cell_type": "code",
      "execution_count": 2,
      "id": "domestic-hayes",
      "metadata": {
        "execution": {
          "iopub.execute_input": "2021-06-14T17:39:28.964960Z",
          "iopub.status.busy": "2021-06-14T17:39:28.964203Z",
          "iopub.status.idle": "2021-06-14T17:39:30.388623Z",
          "shell.execute_reply": "2021-06-14T17:39:30.389115Z",
          "shell.execute_reply.started": "2021-06-14T15:58:39.353567Z"
        },
        "papermill": {
          "duration": 1.462732,
          "end_time": "2021-06-14T17:39:30.389304",
          "exception": false,
          "start_time": "2021-06-14T17:39:28.926572",
          "status": "completed"
        },
        "tags": [],
        "id": "domestic-hayes"
      },
      "outputs": [],
      "source": [
        "from sklearn.decomposition import PCA\n",
        "import numpy as np\n",
        "import glob\n",
        "from PIL import Image"
      ]
    },
    {
      "cell_type": "markdown",
      "id": "knowing-pointer",
      "metadata": {
        "papermill": {
          "duration": 0.03563,
          "end_time": "2021-06-14T17:39:30.535940",
          "exception": false,
          "start_time": "2021-06-14T17:39:30.500310",
          "status": "completed"
        },
        "tags": [],
        "id": "knowing-pointer"
      },
      "source": [
        "# Load dataset"
      ]
    },
    {
      "cell_type": "code",
      "execution_count": 3,
      "id": "registered-criminal",
      "metadata": {
        "execution": {
          "iopub.execute_input": "2021-06-14T17:39:30.611776Z",
          "iopub.status.busy": "2021-06-14T17:39:30.610968Z",
          "iopub.status.idle": "2021-06-14T17:39:38.112662Z",
          "shell.execute_reply": "2021-06-14T17:39:38.113262Z",
          "shell.execute_reply.started": "2021-06-14T15:58:40.757774Z"
        },
        "papermill": {
          "duration": 7.542573,
          "end_time": "2021-06-14T17:39:38.113463",
          "exception": false,
          "start_time": "2021-06-14T17:39:30.570890",
          "status": "completed"
        },
        "tags": [],
        "id": "registered-criminal"
      },
      "outputs": [],
      "source": [
        "# 이미지 파일 경로 목록 불러오기\n",
        "image_files = sorted(glob.glob('./data/*.png'))\n",
        "\n",
        "# 이미지 파일 불러오기\n",
        "images = []\n",
        "for image_file in image_files:\n",
        "    image = Image.open(image_file)\n",
        "    image = image.convert('L')  # 'L': 8-bit pixels, black and white\n",
        "    image = np.array(image)\n",
        "    images.append(image)\n",
        "\n",
        "# 이미지 배열로 변환\n",
        "test = np.array(images)"
      ]
    },
    {
      "cell_type": "code",
      "execution_count": 4,
      "id": "theoretical-kernel",
      "metadata": {
        "execution": {
          "iopub.execute_input": "2021-06-14T17:39:38.188120Z",
          "iopub.status.busy": "2021-06-14T17:39:38.187423Z",
          "iopub.status.idle": "2021-06-14T17:39:38.398442Z",
          "shell.execute_reply": "2021-06-14T17:39:38.397919Z",
          "shell.execute_reply.started": "2021-06-14T15:58:49.371874Z"
        },
        "papermill": {
          "duration": 0.249657,
          "end_time": "2021-06-14T17:39:38.398599",
          "exception": false,
          "start_time": "2021-06-14T17:39:38.148942",
          "status": "completed"
        },
        "tags": [],
        "id": "theoretical-kernel"
      },
      "outputs": [],
      "source": [
        "X_test = test.copy()"
      ]
    },
    {
      "cell_type": "markdown",
      "id": "mature-tradition",
      "metadata": {
        "papermill": {
          "duration": 0.035611,
          "end_time": "2021-06-14T17:39:38.729869",
          "exception": false,
          "start_time": "2021-06-14T17:39:38.694258",
          "status": "completed"
        },
        "tags": [],
        "id": "mature-tradition"
      },
      "source": [
        "# Separating data and label"
      ]
    },
    {
      "cell_type": "code",
      "execution_count": 5,
      "id": "contrary-demographic",
      "metadata": {
        "execution": {
          "iopub.execute_input": "2021-06-14T17:39:39.548811Z",
          "iopub.status.busy": "2021-06-14T17:39:39.548117Z",
          "iopub.status.idle": "2021-06-14T17:39:39.788460Z",
          "shell.execute_reply": "2021-06-14T17:39:39.787849Z",
          "shell.execute_reply.started": "2021-06-14T15:58:50.575484Z"
        },
        "papermill": {
          "duration": 0.281552,
          "end_time": "2021-06-14T17:39:39.788602",
          "exception": false,
          "start_time": "2021-06-14T17:39:39.507050",
          "status": "completed"
        },
        "tags": [],
        "id": "contrary-demographic"
      },
      "outputs": [],
      "source": [
        "X_test = X_test.astype('float32')  # X_test should be features\n",
        "X_test /= 255.0  # X_test should be features"
      ]
    },
    {
      "cell_type": "code",
      "source": [
        "X_test_flattened = X_test.reshape(X_test.shape[0], -1)"
      ],
      "metadata": {
        "id": "HPt7wb2wrG6j"
      },
      "id": "HPt7wb2wrG6j",
      "execution_count": 6,
      "outputs": []
    },
    {
      "cell_type": "markdown",
      "id": "beneficial-congress",
      "metadata": {
        "papermill": {
          "duration": 0.036687,
          "end_time": "2021-06-14T17:39:40.368521",
          "exception": false,
          "start_time": "2021-06-14T17:39:40.331834",
          "status": "completed"
        },
        "tags": [],
        "id": "beneficial-congress"
      },
      "source": [
        "# Dimensionality Reduction using PCA"
      ]
    },
    {
      "cell_type": "code",
      "execution_count": 7,
      "id": "sufficient-solid",
      "metadata": {
        "execution": {
          "iopub.execute_input": "2021-06-14T17:39:40.459528Z",
          "iopub.status.busy": "2021-06-14T17:39:40.458359Z",
          "iopub.status.idle": "2021-06-14T17:39:45.613901Z",
          "shell.execute_reply": "2021-06-14T17:39:45.614841Z",
          "shell.execute_reply.started": "2021-06-14T15:58:51.609642Z"
        },
        "papermill": {
          "duration": 5.209811,
          "end_time": "2021-06-14T17:39:45.615134",
          "exception": false,
          "start_time": "2021-06-14T17:39:40.405323",
          "status": "completed"
        },
        "tags": [],
        "id": "sufficient-solid"
      },
      "outputs": [],
      "source": [
        "seed = 42\n",
        "\n",
        "pca = PCA(n_components=150, random_state=seed)\n",
        "X_test_pca = pca.fit_transform(X_test_flattened)  # Apply PCA transform to test data"
      ]
    },
    {
      "cell_type": "markdown",
      "id": "professional-hepatitis",
      "metadata": {
        "papermill": {
          "duration": 0.037597,
          "end_time": "2021-06-14T17:39:45.907097",
          "exception": false,
          "start_time": "2021-06-14T17:39:45.869500",
          "status": "completed"
        },
        "tags": [],
        "id": "professional-hepatitis"
      },
      "source": [
        "# 1차적으로 10개 분류"
      ]
    },
    {
      "cell_type": "code",
      "source": [
        "from joblib import dump, load\n",
        "# 파일에서 모델 불러오기\n",
        "best_model = load('./svm_model_10.joblib')"
      ],
      "metadata": {
        "id": "k0lrS7b6MQu1"
      },
      "id": "k0lrS7b6MQu1",
      "execution_count": 9,
      "outputs": []
    },
    {
      "cell_type": "markdown",
      "source": [
        "# 10개 분류 후 그중 확률이 높은 상위 2개를 또 이진분류"
      ],
      "metadata": {
        "id": "wlGHPVNYqED_"
      },
      "id": "wlGHPVNYqED_"
    },
    {
      "cell_type": "code",
      "source": [
        "# Make predictions on the test data (probability)\n",
        "y_test_proba = best_model.predict_proba(X_test_pca)  # Predict with PCA transformed test data\n",
        "\n",
        "# Get the indices of the top 2 predictions\n",
        "top2_pred_indices = np.argsort(-y_test_proba, axis=1)[:, :2]\n",
        "\n",
        "# Print the top 2 predicted labels for the first 10 samples\n",
        "for i in range(10):\n",
        "    print(f\"Sample {i+1} top 2 predicted labels: {top2_pred_indices[i]}\")"
      ],
      "metadata": {
        "colab": {
          "base_uri": "https://localhost:8080/"
        },
        "id": "BfXz-G-XqDdi",
        "outputId": "88968cbf-3a87-4da2-8df9-e1a21e6acddc"
      },
      "id": "BfXz-G-XqDdi",
      "execution_count": 10,
      "outputs": [
        {
          "output_type": "stream",
          "name": "stdout",
          "text": [
            "Sample 1 top 2 predicted labels: [2 4]\n",
            "Sample 2 top 2 predicted labels: [0 2]\n",
            "Sample 3 top 2 predicted labels: [1 3]\n",
            "Sample 4 top 2 predicted labels: [1 3]\n",
            "Sample 5 top 2 predicted labels: [8 7]\n",
            "Sample 6 top 2 predicted labels: [1 3]\n",
            "Sample 7 top 2 predicted labels: [0 6]\n",
            "Sample 8 top 2 predicted labels: [9 7]\n",
            "Sample 9 top 2 predicted labels: [8 5]\n",
            "Sample 10 top 2 predicted labels: [3 6]\n"
          ]
        }
      ]
    },
    {
      "cell_type": "code",
      "source": [
        "import pickle\n",
        "with open('./svm_models_2.pkl', 'rb') as f:\n",
        "    pair_models = pickle.load(f)"
      ],
      "metadata": {
        "id": "YXJCV0IVKhCd"
      },
      "id": "YXJCV0IVKhCd",
      "execution_count": 11,
      "outputs": []
    },
    {
      "cell_type": "code",
      "source": [
        "# 최종 예측결과를 저장할 배열\n",
        "test_pred_final = np.zeros(len(X_test))\n",
        "\n",
        "# 각 샘플에 대해 상위 2개의 라벨을 뽑고, 이 라벨 쌍에 해당하는 SVM 모델을 사용하여 예측\n",
        "for i in range(len(X_test)):\n",
        "    top2_labels = tuple(sorted(top2_pred_indices[i]))\n",
        "    model = pair_models[top2_labels]\n",
        "    test_pred_final[i] = model.predict([X_test_pca[i]])[0]"
      ],
      "metadata": {
        "id": "tbScSNkH3qSJ"
      },
      "id": "tbScSNkH3qSJ",
      "execution_count": 12,
      "outputs": []
    },
    {
      "cell_type": "markdown",
      "source": [
        "# testResult.txt 형식으로 변환"
      ],
      "metadata": {
        "id": "gKv_k3_gJmy_"
      },
      "id": "gKv_k3_gJmy_"
    },
    {
      "cell_type": "code",
      "source": [
        "# 최종 예측결과를 int형으로 변환\n",
        "test_pred_final = test_pred_final.astype(int)\n",
        "\n",
        "# 파일에 쓰기\n",
        "with open('./testResult.txt', 'w') as f:\n",
        "    for i in range(len(test_pred_final)):\n",
        "        f.write(f\"{str(i).zfill(5)} {test_pred_final[i]}\\n\")"
      ],
      "metadata": {
        "id": "8fMwyWiw2PTs"
      },
      "id": "8fMwyWiw2PTs",
      "execution_count": 13,
      "outputs": []
    }
  ],
  "metadata": {
    "kernelspec": {
      "display_name": "Python 3",
      "name": "python3"
    },
    "language_info": {
      "codemirror_mode": {
        "name": "ipython",
        "version": 3
      },
      "file_extension": ".py",
      "mimetype": "text/x-python",
      "name": "python",
      "nbconvert_exporter": "python",
      "pygments_lexer": "ipython3",
      "version": "3.7.10"
    },
    "papermill": {
      "default_parameters": {},
      "duration": 3853.827213,
      "end_time": "2021-06-14T18:43:33.812368",
      "environment_variables": {},
      "exception": null,
      "input_path": "__notebook__.ipynb",
      "output_path": "__notebook__.ipynb",
      "parameters": {},
      "start_time": "2021-06-14T17:39:19.985155",
      "version": "2.3.3"
    },
    "colab": {
      "provenance": []
    }
  },
  "nbformat": 4,
  "nbformat_minor": 5
}